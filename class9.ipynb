{
 "cells": [
  {
   "cell_type": "markdown",
   "id": "d9f33184-88ba-4d52-9043-0dc1ada31df8",
   "metadata": {},
   "source": [
    "# Revision"
   ]
  },
  {
   "cell_type": "code",
   "execution_count": 1,
   "id": "303a7be7-0feb-469b-9adf-56ada414d60c",
   "metadata": {},
   "outputs": [],
   "source": [
    "cars = [ 'benz', 'bmw', 'lexus']"
   ]
  },
  {
   "cell_type": "code",
   "execution_count": 2,
   "id": "5e957fce-d13a-4db1-a5ae-21bc035dd782",
   "metadata": {},
   "outputs": [],
   "source": [
    "ages = (28, 30, 32)"
   ]
  },
  {
   "cell_type": "code",
   "execution_count": 3,
   "id": "518ce8bf-ba6d-4434-8389-e5c960443e4f",
   "metadata": {},
   "outputs": [],
   "source": [
    "person = {'name':'Jane','age': 25}"
   ]
  },
  {
   "cell_type": "code",
   "execution_count": 4,
   "id": "b13739b6-c070-41b3-b0b4-9078a243d59a",
   "metadata": {},
   "outputs": [],
   "source": [
    "magazines = {'punch', 'guardian','thisday'}"
   ]
  },
  {
   "cell_type": "markdown",
   "id": "eae167b9-725e-484c-a458-0803bd2c879e",
   "metadata": {},
   "source": [
    "# Statistics"
   ]
  },
  {
   "cell_type": "code",
   "execution_count": 6,
   "id": "785e4c11-6119-47ba-a4b1-63ba00d0b0f5",
   "metadata": {},
   "outputs": [],
   "source": [
    "import statistics as stats"
   ]
  },
  {
   "cell_type": "code",
   "execution_count": 7,
   "id": "c6e2db6a-5274-4af7-81ce-cf81b6af2ff9",
   "metadata": {},
   "outputs": [
    {
     "data": {
      "text/plain": [
       "\u001b[1;31mType:\u001b[0m        module\n",
       "\u001b[1;31mString form:\u001b[0m <module 'statistics' from 'C:\\\\_anaconda3\\\\lib\\\\statistics.py'>\n",
       "\u001b[1;31mFile:\u001b[0m        c:\\_anaconda3\\lib\\statistics.py\n",
       "\u001b[1;31mDocstring:\u001b[0m  \n",
       "Basic statistics module.\n",
       "\n",
       "This module provides functions for calculating statistics of data, including\n",
       "averages, variance, and standard deviation.\n",
       "\n",
       "Calculating averages\n",
       "--------------------\n",
       "\n",
       "==================  ==================================================\n",
       "Function            Description\n",
       "==================  ==================================================\n",
       "mean                Arithmetic mean (average) of data.\n",
       "fmean               Fast, floating point arithmetic mean.\n",
       "geometric_mean      Geometric mean of data.\n",
       "harmonic_mean       Harmonic mean of data.\n",
       "median              Median (middle value) of data.\n",
       "median_low          Low median of data.\n",
       "median_high         High median of data.\n",
       "median_grouped      Median, or 50th percentile, of grouped data.\n",
       "mode                Mode (most common value) of data.\n",
       "multimode           List of modes (most common values of data).\n",
       "quantiles           Divide data into intervals with equal probability.\n",
       "==================  ==================================================\n",
       "\n",
       "Calculate the arithmetic mean (\"the average\") of data:\n",
       "\n",
       ">>> mean([-1.0, 2.5, 3.25, 5.75])\n",
       "2.625\n",
       "\n",
       "\n",
       "Calculate the standard median of discrete data:\n",
       "\n",
       ">>> median([2, 3, 4, 5])\n",
       "3.5\n",
       "\n",
       "\n",
       "Calculate the median, or 50th percentile, of data grouped into class intervals\n",
       "centred on the data values provided. E.g. if your data points are rounded to\n",
       "the nearest whole number:\n",
       "\n",
       ">>> median_grouped([2, 2, 3, 3, 3, 4])  #doctest: +ELLIPSIS\n",
       "2.8333333333...\n",
       "\n",
       "This should be interpreted in this way: you have two data points in the class\n",
       "interval 1.5-2.5, three data points in the class interval 2.5-3.5, and one in\n",
       "the class interval 3.5-4.5. The median of these data points is 2.8333...\n",
       "\n",
       "\n",
       "Calculating variability or spread\n",
       "---------------------------------\n",
       "\n",
       "==================  =============================================\n",
       "Function            Description\n",
       "==================  =============================================\n",
       "pvariance           Population variance of data.\n",
       "variance            Sample variance of data.\n",
       "pstdev              Population standard deviation of data.\n",
       "stdev               Sample standard deviation of data.\n",
       "==================  =============================================\n",
       "\n",
       "Calculate the standard deviation of sample data:\n",
       "\n",
       ">>> stdev([2.5, 3.25, 5.5, 11.25, 11.75])  #doctest: +ELLIPSIS\n",
       "4.38961843444...\n",
       "\n",
       "If you have previously calculated the mean, you can pass it as the optional\n",
       "second argument to the four \"spread\" functions to avoid recalculating it:\n",
       "\n",
       ">>> data = [1, 2, 2, 4, 4, 4, 5, 6]\n",
       ">>> mu = mean(data)\n",
       ">>> pvariance(data, mu)\n",
       "2.5\n",
       "\n",
       "\n",
       "Exceptions\n",
       "----------\n",
       "\n",
       "A single exception is defined: StatisticsError is a subclass of ValueError.\n"
      ]
     },
     "metadata": {},
     "output_type": "display_data"
    }
   ],
   "source": [
    "stats?"
   ]
  },
  {
   "cell_type": "markdown",
   "id": "15e34101-6a4c-4366-ab94-6a035ec46b9a",
   "metadata": {},
   "source": [
    "### Concepts"
   ]
  },
  {
   "cell_type": "markdown",
   "id": "893b256a-ed14-4c70-891a-0468fb2a10ac",
   "metadata": {},
   "source": [
    "What is data?"
   ]
  },
  {
   "cell_type": "markdown",
   "id": "32a9e08f-f292-4ebd-b8be-48415444043a",
   "metadata": {},
   "source": [
    "### Categorical Data"
   ]
  },
  {
   "cell_type": "markdown",
   "id": "34759d06-b1ce-4ba2-8e53-0755f6f4283d",
   "metadata": {},
   "source": [
    "Examples: Gender, Hair color, race, jobs, educational qualificatons"
   ]
  },
  {
   "cell_type": "markdown",
   "id": "93e66550-d48d-4f03-8dc8-b98eb3879639",
   "metadata": {},
   "source": [
    "Analysis of categorical is easy and can be done using data tables"
   ]
  },
  {
   "cell_type": "markdown",
   "id": "bfee9b7a-ac5a-4e8f-99e1-ddb7f2bb6529",
   "metadata": {},
   "source": [
    "Matrix - two-way table\n",
    "\n",
    "- present your categorical data by counting the number of observations\n",
    "\n",
    "- seperate them into relevant groups\n",
    "\n",
    "- e.g class survey, jobs and hair color"
   ]
  },
  {
   "cell_type": "markdown",
   "id": "26cd4027-1731-4b4d-bf48-cf175ace149b",
   "metadata": {},
   "source": [
    "Nominal Data"
   ]
  },
  {
   "cell_type": "markdown",
   "id": "b3dcbf1d-1dc5-4ac6-b31b-7396e07d8473",
   "metadata": {},
   "source": [
    "this type of categorical data has no order to the variables "
   ]
  },
  {
   "cell_type": "markdown",
   "id": "6a1c2202-77f6-4581-8361-d95e7cea9e0e",
   "metadata": {},
   "source": [
    "the variables are used for naming purposes e.g naming or labelling"
   ]
  },
  {
   "cell_type": "markdown",
   "id": "7e344eaf-91d8-48c2-b861-4446585f2b2c",
   "metadata": {},
   "source": [
    "e.g male or female, married or single ( we can't say male comes before female)"
   ]
  },
  {
   "cell_type": "markdown",
   "id": "61b66a9b-ff08-47ab-a23d-0f10c9745b3b",
   "metadata": {},
   "source": [
    "for analysis of nominal data use percentages or mode of the dstribution"
   ]
  },
  {
   "cell_type": "markdown",
   "id": "557b09a7-e364-4e45-b29f-4967a060392d",
   "metadata": {},
   "source": [
    "Ordinal Data"
   ]
  },
  {
   "cell_type": "markdown",
   "id": "1dca429e-e7ea-42b0-a820-603d428c932e",
   "metadata": {},
   "source": [
    "this type of categorical data has order to the variables "
   ]
  },
  {
   "cell_type": "markdown",
   "id": "53737f4a-5983-42cd-aaae-7fa38052b3b7",
   "metadata": {},
   "source": [
    "the vaiables are listed in an ordered manner, they are usually numbered to indicate the order of the list"
   ]
  },
  {
   "cell_type": "markdown",
   "id": "98f03ab1-d5ef-4e10-899d-f11c0bfca790",
   "metadata": {},
   "source": [
    "for analysis of ordinal data use mean, mode, median, percentiles etc."
   ]
  },
  {
   "cell_type": "markdown",
   "id": "e1cc6eff-5709-4fc8-9988-12d3641dd780",
   "metadata": {},
   "source": [
    "# Numerical Data"
   ]
  },
  {
   "cell_type": "markdown",
   "id": "91131571-f516-4e84-9e66-d73351c180bb",
   "metadata": {},
   "source": [
    "Data in the form of numbers\n",
    "\n",
    "1. Discrete Data e.g number of goals scored or movies watched\n",
    "2. Continous Data e.g age, weight"
   ]
  },
  {
   "cell_type": "markdown",
   "id": "6273dfbe-5efb-4780-bd15-c28bd3ca52dd",
   "metadata": {},
   "source": [
    "# Measures of Central Tendency"
   ]
  },
  {
   "cell_type": "markdown",
   "id": "22efe77e-3c5f-4cf0-8332-e3da7754a1fb",
   "metadata": {},
   "source": [
    "Mean, Median and Mode"
   ]
  },
  {
   "cell_type": "markdown",
   "id": "6051b0e9-74bb-4578-a6d7-c34fbd015e22",
   "metadata": {},
   "source": [
    "Mean is tha average of a set of values"
   ]
  },
  {
   "cell_type": "code",
   "execution_count": 11,
   "id": "d9f2768e-b97b-4ccb-924d-2cb1e7ab2be6",
   "metadata": {},
   "outputs": [],
   "source": [
    "import pandas as pd \n",
    "import seaborn as sns"
   ]
  },
  {
   "cell_type": "code",
   "execution_count": 12,
   "id": "a545a474-2aea-4b79-8076-486617129e2d",
   "metadata": {},
   "outputs": [],
   "source": [
    "df = sns.load_dataset('titanic')\n",
    "titanic = df.copy()"
   ]
  },
  {
   "cell_type": "markdown",
   "id": "e4eaad2e-5b4f-4808-b614-69a4b106fa39",
   "metadata": {},
   "source": [
    "Mean = sum / number of values"
   ]
  },
  {
   "cell_type": "code",
   "execution_count": 13,
   "id": "56c01435-c505-4c78-a719-e7b8a4d03e27",
   "metadata": {},
   "outputs": [
    {
     "name": "stdout",
     "output_type": "stream",
     "text": [
      "Avg fare paid: 32.204207968574636\n"
     ]
    }
   ],
   "source": [
    "fares = titanic.fare\n",
    "avg = fares.sum() / len(fares)\n",
    "print(f\"Avg fare paid: {avg}\")"
   ]
  },
  {
   "cell_type": "code",
   "execution_count": 15,
   "id": "563dccfc-b2b8-4024-8a16-5756e1abe2f7",
   "metadata": {},
   "outputs": [
    {
     "data": {
      "text/plain": [
       "32.204207968574636"
      ]
     },
     "execution_count": 15,
     "metadata": {},
     "output_type": "execute_result"
    }
   ],
   "source": [
    "stats.mean(fares) # using a module"
   ]
  },
  {
   "cell_type": "markdown",
   "id": "7a7a7089-5273-4ae7-b4eb-90864f259fcc",
   "metadata": {},
   "source": [
    "### Exercise \n",
    "\n",
    "create a function to calculate the average for any numeric column provided"
   ]
  },
  {
   "cell_type": "code",
   "execution_count": 16,
   "id": "3ca68448-f8a3-41a4-8612-80b6779677da",
   "metadata": {},
   "outputs": [],
   "source": [
    "def getAvg(arr):\n",
    "    total = arr.sum()\n",
    "    no_of_values = len(arr)\n",
    "    avg = total / no_of_values\n",
    "    print(f\"Average: {avg}\")"
   ]
  },
  {
   "cell_type": "code",
   "execution_count": 17,
   "id": "8b3c4964-20b6-4635-ac61-c89808a58661",
   "metadata": {},
   "outputs": [
    {
     "name": "stdout",
     "output_type": "stream",
     "text": [
      "Average: 32.204207968574636\n"
     ]
    }
   ],
   "source": [
    "getAvg(fares)"
   ]
  },
  {
   "cell_type": "markdown",
   "id": "cb6da0df-6309-4573-a7c6-d532c44f6421",
   "metadata": {},
   "source": [
    "# Median"
   ]
  },
  {
   "cell_type": "markdown",
   "id": "a7f94c87-517e-4138-948e-1ae9fb84caea",
   "metadata": {},
   "source": [
    "this is defined as the middle value when the values are sorted"
   ]
  },
  {
   "cell_type": "markdown",
   "id": "fe23359c-cf0c-45dd-8ab9-b64791858054",
   "metadata": {},
   "source": [
    "meaning that 50% of data points have a value lower than or equal to the median and 50% have a value higher than the median"
   ]
  },
  {
   "cell_type": "code",
   "execution_count": 18,
   "id": "d87f97c6-38fb-40b2-accf-dc79f141f051",
   "metadata": {},
   "outputs": [
    {
     "name": "stdout",
     "output_type": "stream",
     "text": [
      "unsorted median 23\n"
     ]
    }
   ],
   "source": [
    "# e.g \n",
    "prices = [45,36,23,50,39]\n",
    "med_1 = prices[len(prices) // 2]\n",
    "print(\"unsorted median\", med_1)"
   ]
  },
  {
   "cell_type": "code",
   "execution_count": 20,
   "id": "bd306413-492c-429b-9217-6bafec255e69",
   "metadata": {},
   "outputs": [
    {
     "name": "stdout",
     "output_type": "stream",
     "text": [
      "[23, 36, 39, 45, 50]\n",
      "median 39\n"
     ]
    }
   ],
   "source": [
    "prices.sort()\n",
    "med_2 = prices[len(prices) // 2]\n",
    "print(prices)\n",
    "print(\"median\", med_2)"
   ]
  },
  {
   "cell_type": "code",
   "execution_count": 21,
   "id": "e558e694-ca2a-43c2-b2ad-a2567529fc9f",
   "metadata": {},
   "outputs": [
    {
     "data": {
      "text/plain": [
       "39"
      ]
     },
     "execution_count": 21,
     "metadata": {},
     "output_type": "execute_result"
    }
   ],
   "source": [
    "stats.median([45,36,23,50,39])"
   ]
  },
  {
   "cell_type": "code",
   "execution_count": 22,
   "id": "ab2372a5-4828-4a63-85f6-3820f61b6d24",
   "metadata": {},
   "outputs": [],
   "source": [
    "# numpy \n",
    "# np.mean()\n",
    "# np.median()"
   ]
  },
  {
   "cell_type": "markdown",
   "id": "4640b663-c966-42b0-8733-69d4561597e3",
   "metadata": {},
   "source": [
    "# Mode"
   ]
  },
  {
   "cell_type": "markdown",
   "id": "41016d17-583f-4088-bee6-e551e1ab707a",
   "metadata": {},
   "source": [
    "Most occuring value"
   ]
  },
  {
   "cell_type": "code",
   "execution_count": 24,
   "id": "5487b835-79ed-4565-ab44-ef75cd0c08b4",
   "metadata": {},
   "outputs": [
    {
     "data": {
      "text/plain": [
       "8.05"
      ]
     },
     "execution_count": 24,
     "metadata": {},
     "output_type": "execute_result"
    }
   ],
   "source": [
    "stats.mode(fares)"
   ]
  },
  {
   "cell_type": "code",
   "execution_count": 25,
   "id": "f8ecf408-b13e-4a73-a244-f2f9b4545787",
   "metadata": {},
   "outputs": [
    {
     "data": {
      "text/plain": [
       "ModeResult(mode=array([8.05]), count=array([43]))"
      ]
     },
     "execution_count": 25,
     "metadata": {},
     "output_type": "execute_result"
    }
   ],
   "source": [
    "import scipy as sp\n",
    "\n",
    "sp.stats.mode(fares)"
   ]
  },
  {
   "cell_type": "markdown",
   "id": "d13736c7-ff9f-47c6-ac2d-de6e7b145a43",
   "metadata": {},
   "source": [
    "# variance"
   ]
  },
  {
   "cell_type": "markdown",
   "id": "3452ca1f-ff07-47d6-b7d6-57c610438928",
   "metadata": {},
   "source": [
    "Variance indicates how spreadout the values are"
   ]
  },
  {
   "cell_type": "code",
   "execution_count": 26,
   "id": "7a3441ef-ab2d-4fde-bbb2-c847466153a3",
   "metadata": {},
   "outputs": [
    {
     "data": {
      "text/plain": [
       "[23, 36, 39, 45, 50]"
      ]
     },
     "execution_count": 26,
     "metadata": {},
     "output_type": "execute_result"
    }
   ],
   "source": [
    "prices"
   ]
  },
  {
   "cell_type": "code",
   "execution_count": 27,
   "id": "ccece6f5-7fc8-4523-9160-4328b2d54fc6",
   "metadata": {},
   "outputs": [
    {
     "data": {
      "text/plain": [
       "105.3"
      ]
     },
     "execution_count": 27,
     "metadata": {},
     "output_type": "execute_result"
    }
   ],
   "source": [
    "stats.variance(prices)"
   ]
  },
  {
   "cell_type": "markdown",
   "id": "31f12d10-bd0f-4b3f-b239-106b8bbca4cc",
   "metadata": {},
   "source": [
    "# standard deviation"
   ]
  },
  {
   "cell_type": "code",
   "execution_count": 28,
   "id": "2a3b44aa-8f53-4a7c-bc36-713fdb0c4cc8",
   "metadata": {},
   "outputs": [
    {
     "data": {
      "text/plain": [
       "10.261578825892242"
      ]
     },
     "execution_count": 28,
     "metadata": {},
     "output_type": "execute_result"
    }
   ],
   "source": [
    "stats.stdev(prices)"
   ]
  },
  {
   "cell_type": "markdown",
   "id": "b9271fdd-58bb-4e13-8b8a-b8dc7f8f2053",
   "metadata": {},
   "source": [
    "### Read up\n",
    "\n",
    "#### Percentiles and Quartiles"
   ]
  },
  {
   "cell_type": "markdown",
   "id": "1fd8b2a6-79f0-4828-9a87-4fd432d58d42",
   "metadata": {},
   "source": [
    "# Linear Regression"
   ]
  },
  {
   "cell_type": "markdown",
   "id": "001c98af-06dd-4669-998a-3b8f3ebdd8db",
   "metadata": {},
   "source": [
    "Regression is a term used when trying to find the relationship between variables"
   ]
  },
  {
   "cell_type": "markdown",
   "id": "6924279a-0ded-4525-987e-592ebf983257",
   "metadata": {},
   "source": [
    "Linear regression uses the relationship btw data-points to draw a straight line through them"
   ]
  },
  {
   "cell_type": "code",
   "execution_count": 30,
   "id": "5a24cacd-518d-49ea-9523-3b27f542f44e",
   "metadata": {},
   "outputs": [
    {
     "data": {
      "text/plain": [
       "Index(['survived', 'pclass', 'sex', 'age', 'sibsp', 'parch', 'fare',\n",
       "       'embarked', 'class', 'who', 'adult_male', 'deck', 'embark_town',\n",
       "       'alive', 'alone'],\n",
       "      dtype='object')"
      ]
     },
     "execution_count": 30,
     "metadata": {},
     "output_type": "execute_result"
    }
   ],
   "source": [
    "titanic.columns"
   ]
  },
  {
   "cell_type": "code",
   "execution_count": 31,
   "id": "5e71b69a-1ce0-4f86-9741-60f6f73000d3",
   "metadata": {},
   "outputs": [],
   "source": [
    "age = titanic.age\n",
    "fare = titanic.fare"
   ]
  },
  {
   "cell_type": "code",
   "execution_count": 32,
   "id": "bd66a95b-95e2-49c9-a277-52b82ca0d8c9",
   "metadata": {},
   "outputs": [
    {
     "data": {
      "image/png": "[encoded data removed]",
      "text/plain": [
       "<Figure size 864x360 with 1 Axes>"
      ]
     },
     "metadata": {
      "needs_background": "light"
     },
     "output_type": "display_data"
    }
   ],
   "source": [
    "### scatter plot\n",
    "import matplotlib.pyplot as plt\n",
    "plt.figure(figsize=(12,5))\n",
    "sns.scatterplot(data=titanic,x=age,y=fare)\n",
    "plt.show()"
   ]
  },
  {
   "cell_type": "code",
   "execution_count": 34,
   "id": "eae54871-8fd0-4414-b1da-78f6246c5905",
   "metadata": {},
   "outputs": [
    {
     "data": {
      "text/plain": [
       "survived         0\n",
       "pclass           0\n",
       "sex              0\n",
       "age            177\n",
       "sibsp            0\n",
       "parch            0\n",
       "fare             0\n",
       "embarked         2\n",
       "class            0\n",
       "who              0\n",
       "adult_male       0\n",
       "deck           688\n",
       "embark_town      2\n",
       "alive            0\n",
       "alone            0\n",
       "dtype: int64"
      ]
     },
     "execution_count": 34,
     "metadata": {},
     "output_type": "execute_result"
    }
   ],
   "source": [
    "titanic.isnull().sum() # check for null values "
   ]
  },
  {
   "cell_type": "code",
   "execution_count": 35,
   "id": "34cd424e-1a01-42a4-a56f-698fa74264d6",
   "metadata": {},
   "outputs": [],
   "source": [
    "# replace the null values in the age column\n",
    "# replace with the average age\n",
    "# set inplace=True (modifies the column directly)\n",
    "titanic.age.fillna(age.mean(), inplace=True)"
   ]
  },
  {
   "cell_type": "code",
   "execution_count": 36,
   "id": "576748a4-507c-4017-9eb9-a6d04bcd1ace",
   "metadata": {},
   "outputs": [
    {
     "data": {
      "text/plain": [
       "survived         0\n",
       "pclass           0\n",
       "sex              0\n",
       "age              0\n",
       "sibsp            0\n",
       "parch            0\n",
       "fare             0\n",
       "embarked         2\n",
       "class            0\n",
       "who              0\n",
       "adult_male       0\n",
       "deck           688\n",
       "embark_town      2\n",
       "alive            0\n",
       "alone            0\n",
       "dtype: int64"
      ]
     },
     "execution_count": 36,
     "metadata": {},
     "output_type": "execute_result"
    }
   ],
   "source": [
    "titanic.isnull().sum()"
   ]
  },
  {
   "cell_type": "code",
   "execution_count": 37,
   "id": "f298e943-c07d-4f82-a557-0c66ec8edb60",
   "metadata": {},
   "outputs": [
    {
     "data": {
      "text/plain": [
       "LinregressResult(slope=0.3499636817440231, intercept=21.810595412261044, rvalue=0.09156609328505759, pvalue=0.006235676128303412, stderr=0.12764655474462522, intercept_stderr=4.137993901478175)"
      ]
     },
     "execution_count": 37,
     "metadata": {},
     "output_type": "execute_result"
    }
   ],
   "source": [
    "# linear regress\n",
    "age = titanic.age\n",
    "fare = titanic.fare\n",
    "sp.stats.linregress(age,fare)"
   ]
  },
  {
   "cell_type": "code",
   "execution_count": null,
   "id": "48a21f8d-7847-4495-97ce-ee6a5bcc4dd1",
   "metadata": {},
   "outputs": [],
   "source": []
  }
 ],
 "metadata": {
  "kernelspec": {
   "display_name": "Python 3 (ipykernel)",
   "language": "python",
   "name": "python3"
  },
  "language_info": {
   "codemirror_mode": {
    "name": "ipython",
    "version": 3
   },
   "file_extension": ".py",
   "mimetype": "text/x-python",
   "name": "python",
   "nbconvert_exporter": "python",
   "pygments_lexer": "ipython3",
   "version": "3.8.16"
  }
 },
 "nbformat": 4,
 "nbformat_minor": 5
}
