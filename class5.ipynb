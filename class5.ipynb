{
 "cells": [
  {
   "cell_type": "markdown",
   "id": "9c2dc050-a612-4a6a-be00-1a5545a0d4d4",
   "metadata": {},
   "source": [
    "# Correction"
   ]
  },
  {
   "cell_type": "code",
   "execution_count": 5,
   "id": "9cebedb4-7983-4333-a0eb-808a4e1bae7f",
   "metadata": {},
   "outputs": [],
   "source": [
    "# Q1\n",
    "def areaTri(base,height):\n",
    "    area = base * height * 0.5\n",
    "    return f\"Area of triangle: {area}\""
   ]
  },
  {
   "cell_type": "code",
   "execution_count": 6,
   "id": "c15c7659-452e-47ac-a677-b27c04ffce55",
   "metadata": {},
   "outputs": [
    {
     "data": {
      "text/plain": [
       "'Area of triangle: 36.0'"
      ]
     },
     "execution_count": 6,
     "metadata": {},
     "output_type": "execute_result"
    }
   ],
   "source": [
    "areaTri(12,6)"
   ]
  },
  {
   "cell_type": "code",
   "execution_count": 7,
   "id": "7757bee0-5787-4138-bccf-faf0274922cd",
   "metadata": {},
   "outputs": [],
   "source": [
    "# Q2\n",
    "def countLegs(cow,pig,chicks,rabts):\n",
    "    total_legs = (cow*4)+(pig*4)+(chicks*2)+(rabts*4)\n",
    "    return f\"Total legs on the farm: {total_legs}\""
   ]
  },
  {
   "cell_type": "code",
   "execution_count": 8,
   "id": "fb2b6a5d-11f1-4986-a5fd-0497adc22e99",
   "metadata": {},
   "outputs": [
    {
     "data": {
      "text/plain": [
       "'Total legs on the farm: 980'"
      ]
     },
     "execution_count": 8,
     "metadata": {},
     "output_type": "execute_result"
    }
   ],
   "source": [
    "countLegs(120,50,100,25)"
   ]
  },
  {
   "cell_type": "code",
   "execution_count": 9,
   "id": "373e290f-ae74-4809-9273-625492a1267f",
   "metadata": {},
   "outputs": [],
   "source": [
    "# Q3\n",
    "apples = ['red','green','cherry','african','bloodred']\n",
    "def findMid(arr):\n",
    "    length = len(arr)\n",
    "    if length % 2 == 0:\n",
    "        # array has even number of items \n",
    "        # print the middle items\n",
    "        lower = int((length/2) - 1)\n",
    "        upper = int((length/2))\n",
    "        print(arr[lower], arr[upper])\n",
    "    else: #\n",
    "        # array has odd number of items\n",
    "        mid = int((length / 2))\n",
    "        return arr[mid]"
   ]
  },
  {
   "cell_type": "code",
   "execution_count": 10,
   "id": "8c8ba8e9-6087-41fb-abfb-22edb1469c5f",
   "metadata": {},
   "outputs": [
    {
     "data": {
      "text/plain": [
       "'cherry'"
      ]
     },
     "execution_count": 10,
     "metadata": {},
     "output_type": "execute_result"
    }
   ],
   "source": [
    "findMid(apples)"
   ]
  },
  {
   "cell_type": "code",
   "execution_count": 11,
   "id": "9f13d2f5-8e1e-421a-9e98-fe96189e0f20",
   "metadata": {},
   "outputs": [
    {
     "name": "stdout",
     "output_type": "stream",
     "text": [
      "60 4\n"
     ]
    }
   ],
   "source": [
    "mylist = [34, 60, 4, 6]\n",
    "findMid(mylist)"
   ]
  },
  {
   "cell_type": "markdown",
   "id": "a4f17622-e105-4b53-8020-f1748428b148",
   "metadata": {},
   "source": [
    "# inbuilt python libraries"
   ]
  },
  {
   "cell_type": "markdown",
   "id": "31cfa022-7db6-4986-ad28-c7646fe5c3ee",
   "metadata": {},
   "source": [
    "e.g datetime, os, csv, math"
   ]
  },
  {
   "cell_type": "code",
   "execution_count": 13,
   "id": "86a51afe-8ba4-440a-9c01-5498b62a2fbc",
   "metadata": {},
   "outputs": [],
   "source": [
    "import  math"
   ]
  },
  {
   "cell_type": "code",
   "execution_count": 14,
   "id": "b1b7b1f1-9a03-4870-8ab0-968aab71fd46",
   "metadata": {},
   "outputs": [
    {
     "data": {
      "text/plain": [
       "\u001b[1;31mType:\u001b[0m        module\n",
       "\u001b[1;31mString form:\u001b[0m <module 'math' (built-in)>\n",
       "\u001b[1;31mDocstring:\u001b[0m  \n",
       "This module provides access to the mathematical functions\n",
       "defined by the C standard.\n"
      ]
     },
     "metadata": {},
     "output_type": "display_data"
    }
   ],
   "source": [
    "math?"
   ]
  },
  {
   "cell_type": "code",
   "execution_count": 15,
   "id": "9fdd07c8-d4a6-43c6-bc2d-c1a2af2e7c73",
   "metadata": {},
   "outputs": [
    {
     "name": "stdout",
     "output_type": "stream",
     "text": [
      "['__doc__', '__loader__', '__name__', '__package__', '__spec__', 'acos', 'acosh', 'asin', 'asinh', 'atan', 'atan2', 'atanh', 'ceil', 'comb', 'copysign', 'cos', 'cosh', 'degrees', 'dist', 'e', 'erf', 'erfc', 'exp', 'expm1', 'fabs', 'factorial', 'floor', 'fmod', 'frexp', 'fsum', 'gamma', 'gcd', 'hypot', 'inf', 'isclose', 'isfinite', 'isinf', 'isnan', 'isqrt', 'lcm', 'ldexp', 'lgamma', 'log', 'log10', 'log1p', 'log2', 'modf', 'nan', 'nextafter', 'perm', 'pi', 'pow', 'prod', 'radians', 'remainder', 'sin', 'sinh', 'sqrt', 'tan', 'tanh', 'tau', 'trunc', 'ulp']\n"
     ]
    }
   ],
   "source": [
    "print(dir(math))"
   ]
  },
  {
   "cell_type": "code",
   "execution_count": 16,
   "id": "5bcc3fac-adcd-44a9-95b5-31feedb02488",
   "metadata": {},
   "outputs": [
    {
     "name": "stdout",
     "output_type": "stream",
     "text": [
      "3.141592653589793\n"
     ]
    }
   ],
   "source": [
    "print(math.pi)"
   ]
  },
  {
   "cell_type": "code",
   "execution_count": 18,
   "id": "48d49d63-578e-465e-849d-5a42e71fa17d",
   "metadata": {},
   "outputs": [
    {
     "name": "stdout",
     "output_type": "stream",
     "text": [
      "-0.9880316240928618\n"
     ]
    }
   ],
   "source": [
    "print(math.sin(30))"
   ]
  },
  {
   "cell_type": "code",
   "execution_count": 19,
   "id": "215031eb-eafd-4726-b2f2-3b05dfcad83b",
   "metadata": {},
   "outputs": [
    {
     "name": "stdout",
     "output_type": "stream",
     "text": [
      "2.718281828459045\n"
     ]
    }
   ],
   "source": [
    "print(math.e)"
   ]
  },
  {
   "cell_type": "code",
   "execution_count": 20,
   "id": "9fd6fa6a-8c24-4d1e-95e4-7058ce38cffb",
   "metadata": {},
   "outputs": [],
   "source": [
    "# random numbers\n",
    "import random"
   ]
  },
  {
   "cell_type": "code",
   "execution_count": 21,
   "id": "9da0e3ae-525c-4ac0-82f8-204bce4dde47",
   "metadata": {},
   "outputs": [
    {
     "data": {
      "text/plain": [
       "\u001b[1;31mType:\u001b[0m        module\n",
       "\u001b[1;31mString form:\u001b[0m <module 'random' from 'C:\\\\_anaconda3\\\\lib\\\\random.py'>\n",
       "\u001b[1;31mFile:\u001b[0m        c:\\_anaconda3\\lib\\random.py\n",
       "\u001b[1;31mDocstring:\u001b[0m  \n",
       "Random variable generators.\n",
       "\n",
       "    bytes\n",
       "    -----\n",
       "           uniform bytes (values between 0 and 255)\n",
       "\n",
       "    integers\n",
       "    --------\n",
       "           uniform within range\n",
       "\n",
       "    sequences\n",
       "    ---------\n",
       "           pick random element\n",
       "           pick random sample\n",
       "           pick weighted random sample\n",
       "           generate random permutation\n",
       "\n",
       "    distributions on the real line:\n",
       "    ------------------------------\n",
       "           uniform\n",
       "           triangular\n",
       "           normal (Gaussian)\n",
       "           lognormal\n",
       "           negative exponential\n",
       "           gamma\n",
       "           beta\n",
       "           pareto\n",
       "           Weibull\n",
       "\n",
       "    distributions on the circle (angles 0 to 2pi)\n",
       "    ---------------------------------------------\n",
       "           circular uniform\n",
       "           von Mises\n",
       "\n",
       "General notes on the underlying Mersenne Twister core generator:\n",
       "\n",
       "* The period is 2**19937-1.\n",
       "* It is one of the most extensively tested generators in existence.\n",
       "* The random() method is implemented in C, executes in a single Python step,\n",
       "  and is, therefore, threadsafe.\n"
      ]
     },
     "metadata": {},
     "output_type": "display_data"
    }
   ],
   "source": [
    "random?"
   ]
  },
  {
   "cell_type": "code",
   "execution_count": 22,
   "id": "83c3f143-fd8e-4a6f-a0c6-fae561d49ccf",
   "metadata": {},
   "outputs": [
    {
     "name": "stdout",
     "output_type": "stream",
     "text": [
      "['BPF', 'LOG4', 'NV_MAGICCONST', 'RECIP_BPF', 'Random', 'SG_MAGICCONST', 'SystemRandom', 'TWOPI', '_Sequence', '_Set', '__all__', '__builtins__', '__cached__', '__doc__', '__file__', '__loader__', '__name__', '__package__', '__spec__', '_accumulate', '_acos', '_bisect', '_ceil', '_cos', '_e', '_exp', '_floor', '_inst', '_log', '_os', '_pi', '_random', '_repeat', '_sha512', '_sin', '_sqrt', '_test', '_test_generator', '_urandom', '_warn', 'betavariate', 'choice', 'choices', 'expovariate', 'gammavariate', 'gauss', 'getrandbits', 'getstate', 'lognormvariate', 'normalvariate', 'paretovariate', 'randbytes', 'randint', 'random', 'randrange', 'sample', 'seed', 'setstate', 'shuffle', 'triangular', 'uniform', 'vonmisesvariate', 'weibullvariate']\n"
     ]
    }
   ],
   "source": [
    "print(dir(random))"
   ]
  },
  {
   "cell_type": "code",
   "execution_count": 25,
   "id": "8b0efb14-6df0-499d-a32e-80fb26c3e18a",
   "metadata": {},
   "outputs": [
    {
     "name": "stdout",
     "output_type": "stream",
     "text": [
      "6\n"
     ]
    }
   ],
   "source": [
    "print(random.randint(1,10))"
   ]
  },
  {
   "cell_type": "code",
   "execution_count": 26,
   "id": "cc46d97a-e2ea-4ae0-bc71-fd9e3bddc776",
   "metadata": {},
   "outputs": [],
   "source": [
    "# the above generates a random integer btw 1 and 10"
   ]
  },
  {
   "cell_type": "markdown",
   "id": "0bc8a530-fb23-4163-b096-8649da4ed72a",
   "metadata": {},
   "source": [
    "# modules created locally"
   ]
  },
  {
   "cell_type": "markdown",
   "id": "16b137f9-df43-4b62-a353-ea21a3ef068f",
   "metadata": {},
   "source": [
    "A module is simply a python file having some code.\n",
    "\n",
    "methods can be added to a module using python functions.\n",
    "\n",
    "varaibles and other structures can also be stored within a module"
   ]
  },
  {
   "cell_type": "code",
   "execution_count": 28,
   "id": "884e1b0d-a59d-41a6-8184-2b734234cf91",
   "metadata": {},
   "outputs": [],
   "source": [
    "import mymodules"
   ]
  },
  {
   "cell_type": "code",
   "execution_count": 29,
   "id": "cf45fd91-3583-40bc-b64d-32b3df534d9f",
   "metadata": {},
   "outputs": [
    {
     "data": {
      "text/plain": [
       "\u001b[1;31mType:\u001b[0m        module\n",
       "\u001b[1;31mString form:\u001b[0m <module 'mymodules' from 'C:\\\\Users\\\\PC\\\\Documents\\\\HiiT\\\\Data Analysis\\\\weekdays\\\\python\\\\5thJune2023\\\\mymodules.py'>\n",
       "\u001b[1;31mFile:\u001b[0m        c:\\users\\pc\\documents\\hiit\\data analysis\\weekdays\\python\\5thjune2023\\mymodules.py\n",
       "\u001b[1;31mDocstring:\u001b[0m   <no docstring>\n"
      ]
     },
     "metadata": {},
     "output_type": "display_data"
    }
   ],
   "source": [
    "mymodules?"
   ]
  },
  {
   "cell_type": "code",
   "execution_count": 30,
   "id": "6acca39b-0e0a-4328-b994-a7877149a9b4",
   "metadata": {},
   "outputs": [
    {
     "name": "stdout",
     "output_type": "stream",
     "text": [
      "['__builtins__', '__cached__', '__doc__', '__file__', '__loader__', '__name__', '__package__', '__spec__', 'areaCircle', 'countWords', 'myname', 'pi']\n"
     ]
    }
   ],
   "source": [
    "print(dir(mymodules))"
   ]
  },
  {
   "cell_type": "code",
   "execution_count": 31,
   "id": "86f50e20-60c7-4310-858b-be8ce921f100",
   "metadata": {},
   "outputs": [
    {
     "data": {
      "text/plain": [
       "'Jonathan'"
      ]
     },
     "execution_count": 31,
     "metadata": {},
     "output_type": "execute_result"
    }
   ],
   "source": [
    "mymodules.myname"
   ]
  },
  {
   "cell_type": "code",
   "execution_count": 32,
   "id": "4460f0c6-60d4-4dbf-8bd4-25fe6befc740",
   "metadata": {},
   "outputs": [
    {
     "data": {
      "text/plain": [
       "'Area of the circle: 1256.8'"
      ]
     },
     "execution_count": 32,
     "metadata": {},
     "output_type": "execute_result"
    }
   ],
   "source": [
    "mymodules.areaCircle(20)"
   ]
  },
  {
   "cell_type": "code",
   "execution_count": 33,
   "id": "644a888a-7c41-41e3-b4d6-e2d70a167e15",
   "metadata": {},
   "outputs": [
    {
     "data": {
      "text/plain": [
       "'No. of words: 1656'"
      ]
     },
     "execution_count": 33,
     "metadata": {},
     "output_type": "execute_result"
    }
   ],
   "source": [
    "mymodules.countWords(\"datasets/romeo_full.txt\")"
   ]
  },
  {
   "cell_type": "markdown",
   "id": "fc98eced-004c-4c0e-81d8-b12b7dbe7c64",
   "metadata": {},
   "source": [
    "## 3rd party modules relevnt for Data Analysis"
   ]
  },
  {
   "cell_type": "code",
   "execution_count": 34,
   "id": "02f613e5-a0b2-4305-b337-a5c388b96714",
   "metadata": {},
   "outputs": [],
   "source": [
    "# majority of these modules are hosted on pypi.org\n",
    "# and are made available as bundle on anaconda\n",
    "# if you are using a custom environment you need to install these modules \n",
    "# using pip."
   ]
  },
  {
   "cell_type": "markdown",
   "id": "81db8bdb-a340-46c4-88b1-b9949085aa1e",
   "metadata": {},
   "source": [
    "modules for file handling, calculations, statistics, visualizations etc."
   ]
  },
  {
   "cell_type": "markdown",
   "id": "27f24503-e31b-40ac-82dd-afc25517bf81",
   "metadata": {},
   "source": [
    "e.g numpy, pandas, scipy, matplotlib, seaborn, statistics, plotly etc"
   ]
  },
  {
   "cell_type": "markdown",
   "id": "82e11fa4-1d17-4ebc-9b6b-4c695866f1b0",
   "metadata": {},
   "source": [
    "# Numpy and Pandas"
   ]
  },
  {
   "cell_type": "markdown",
   "id": "d4bba7f5-738b-4476-9243-e5c49a603964",
   "metadata": {},
   "source": [
    "Numpy - Numerical Python\n",
    "\n",
    "Numpy library enables us to with Arrays, matrix, and random numbers among other things"
   ]
  },
  {
   "cell_type": "markdown",
   "id": "f5daac99-7450-47f4-b914-ddeaf3637124",
   "metadata": {},
   "source": [
    "PANDAS - Python for Data Analysis\n",
    "\n",
    "allows us to create columns and tables (called series and dataframes respectively)\n"
   ]
  },
  {
   "cell_type": "markdown",
   "id": "b623f1d1-519d-4227-a9df-cf391cddb213",
   "metadata": {},
   "source": [
    "it is also useful in opening and saving files of different types"
   ]
  },
  {
   "cell_type": "markdown",
   "id": "78ef5a45-baba-40de-90d8-1485c5bd20ce",
   "metadata": {},
   "source": [
    "it also has methods for data cleaning, transformation, exploration and plotting"
   ]
  },
  {
   "cell_type": "code",
   "execution_count": 35,
   "id": "f85975f7-b7be-423b-8d5c-d8e95e989c5b",
   "metadata": {},
   "outputs": [],
   "source": [
    "import numpy, pandas"
   ]
  },
  {
   "cell_type": "code",
   "execution_count": 36,
   "id": "b2c8ed6f-e229-4ae9-a08e-b1e9a1ab41b1",
   "metadata": {},
   "outputs": [
    {
     "data": {
      "text/plain": [
       "\u001b[1;31mType:\u001b[0m        module\n",
       "\u001b[1;31mString form:\u001b[0m <module 'numpy' from 'C:\\\\_anaconda3\\\\lib\\\\site-packages\\\\numpy\\\\__init__.py'>\n",
       "\u001b[1;31mFile:\u001b[0m        c:\\_anaconda3\\lib\\site-packages\\numpy\\__init__.py\n",
       "\u001b[1;31mDocstring:\u001b[0m  \n",
       "NumPy\n",
       "=====\n",
       "\n",
       "Provides\n",
       "  1. An array object of arbitrary homogeneous items\n",
       "  2. Fast mathematical operations over arrays\n",
       "  3. Linear Algebra, Fourier Transforms, Random Number Generation\n",
       "\n",
       "How to use the documentation\n",
       "----------------------------\n",
       "Documentation is available in two forms: docstrings provided\n",
       "with the code, and a loose standing reference guide, available from\n",
       "`the NumPy homepage <https://www.scipy.org>`_.\n",
       "\n",
       "We recommend exploring the docstrings using\n",
       "`IPython <https://ipython.org>`_, an advanced Python shell with\n",
       "TAB-completion and introspection capabilities.  See below for further\n",
       "instructions.\n",
       "\n",
       "The docstring examples assume that `numpy` has been imported as `np`::\n",
       "\n",
       "  >>> import numpy as np\n",
       "\n",
       "Code snippets are indicated by three greater-than signs::\n",
       "\n",
       "  >>> x = 42\n",
       "  >>> x = x + 1\n",
       "\n",
       "Use the built-in ``help`` function to view a function's docstring::\n",
       "\n",
       "  >>> help(np.sort)\n",
       "  ... # doctest: +SKIP\n",
       "\n",
       "For some objects, ``np.info(obj)`` may provide additional help.  This is\n",
       "particularly true if you see the line \"Help on ufunc object:\" at the top\n",
       "of the help() page.  Ufuncs are implemented in C, not Python, for speed.\n",
       "The native Python help() does not know how to view their help, but our\n",
       "np.info() function does.\n",
       "\n",
       "To search for documents containing a keyword, do::\n",
       "\n",
       "  >>> np.lookfor('keyword')\n",
       "  ... # doctest: +SKIP\n",
       "\n",
       "General-purpose documents like a glossary and help on the basic concepts\n",
       "of numpy are available under the ``doc`` sub-module::\n",
       "\n",
       "  >>> from numpy import doc\n",
       "  >>> help(doc)\n",
       "  ... # doctest: +SKIP\n",
       "\n",
       "Available subpackages\n",
       "---------------------\n",
       "doc\n",
       "    Topical documentation on broadcasting, indexing, etc.\n",
       "lib\n",
       "    Basic functions used by several sub-packages.\n",
       "random\n",
       "    Core Random Tools\n",
       "linalg\n",
       "    Core Linear Algebra Tools\n",
       "fft\n",
       "    Core FFT routines\n",
       "polynomial\n",
       "    Polynomial tools\n",
       "testing\n",
       "    NumPy testing tools\n",
       "f2py\n",
       "    Fortran to Python Interface Generator.\n",
       "distutils\n",
       "    Enhancements to distutils with support for\n",
       "    Fortran compilers support and more.\n",
       "\n",
       "Utilities\n",
       "---------\n",
       "test\n",
       "    Run numpy unittests\n",
       "show_config\n",
       "    Show numpy build configuration\n",
       "dual\n",
       "    Overwrite certain functions with high-performance SciPy tools.\n",
       "    Note: `numpy.dual` is deprecated.  Use the functions from NumPy or Scipy\n",
       "    directly instead of importing them from `numpy.dual`.\n",
       "matlib\n",
       "    Make everything matrices.\n",
       "__version__\n",
       "    NumPy version string\n",
       "\n",
       "Viewing documentation using IPython\n",
       "-----------------------------------\n",
       "Start IPython with the NumPy profile (``ipython -p numpy``), which will\n",
       "import `numpy` under the alias `np`.  Then, use the ``cpaste`` command to\n",
       "paste examples into the shell.  To see which functions are available in\n",
       "`numpy`, type ``np.<TAB>`` (where ``<TAB>`` refers to the TAB key), or use\n",
       "``np.*cos*?<ENTER>`` (where ``<ENTER>`` refers to the ENTER key) to narrow\n",
       "down the list.  To view the docstring for a function, use\n",
       "``np.cos?<ENTER>`` (to view the docstring) and ``np.cos??<ENTER>`` (to view\n",
       "the source code).\n",
       "\n",
       "Copies vs. in-place operation\n",
       "-----------------------------\n",
       "Most of the functions in `numpy` return a copy of the array argument\n",
       "(e.g., `np.sort`).  In-place versions of these functions are often\n",
       "available as array methods, i.e. ``x = np.array([1,2,3]); x.sort()``.\n",
       "Exceptions to this rule are documented.\n"
      ]
     },
     "metadata": {},
     "output_type": "display_data"
    }
   ],
   "source": [
    "numpy?"
   ]
  },
  {
   "cell_type": "code",
   "execution_count": 37,
   "id": "9a3b4c49-457f-42e8-ad10-99136b409c7c",
   "metadata": {},
   "outputs": [
    {
     "data": {
      "text/plain": [
       "\u001b[1;31mType:\u001b[0m        module\n",
       "\u001b[1;31mString form:\u001b[0m <module 'pandas' from 'C:\\\\_anaconda3\\\\lib\\\\site-packages\\\\pandas\\\\__init__.py'>\n",
       "\u001b[1;31mFile:\u001b[0m        c:\\_anaconda3\\lib\\site-packages\\pandas\\__init__.py\n",
       "\u001b[1;31mDocstring:\u001b[0m  \n",
       "pandas - a powerful data analysis and manipulation library for Python\n",
       "=====================================================================\n",
       "\n",
       "**pandas** is a Python package providing fast, flexible, and expressive data\n",
       "structures designed to make working with \"relational\" or \"labeled\" data both\n",
       "easy and intuitive. It aims to be the fundamental high-level building block for\n",
       "doing practical, **real world** data analysis in Python. Additionally, it has\n",
       "the broader goal of becoming **the most powerful and flexible open source data\n",
       "analysis / manipulation tool available in any language**. It is already well on\n",
       "its way toward this goal.\n",
       "\n",
       "Main Features\n",
       "-------------\n",
       "Here are just a few of the things that pandas does well:\n",
       "\n",
       "  - Easy handling of missing data in floating point as well as non-floating\n",
       "    point data.\n",
       "  - Size mutability: columns can be inserted and deleted from DataFrame and\n",
       "    higher dimensional objects\n",
       "  - Automatic and explicit data alignment: objects can be explicitly aligned\n",
       "    to a set of labels, or the user can simply ignore the labels and let\n",
       "    `Series`, `DataFrame`, etc. automatically align the data for you in\n",
       "    computations.\n",
       "  - Powerful, flexible group by functionality to perform split-apply-combine\n",
       "    operations on data sets, for both aggregating and transforming data.\n",
       "  - Make it easy to convert ragged, differently-indexed data in other Python\n",
       "    and NumPy data structures into DataFrame objects.\n",
       "  - Intelligent label-based slicing, fancy indexing, and subsetting of large\n",
       "    data sets.\n",
       "  - Intuitive merging and joining data sets.\n",
       "  - Flexible reshaping and pivoting of data sets.\n",
       "  - Hierarchical labeling of axes (possible to have multiple labels per tick).\n",
       "  - Robust IO tools for loading data from flat files (CSV and delimited),\n",
       "    Excel files, databases, and saving/loading data from the ultrafast HDF5\n",
       "    format.\n",
       "  - Time series-specific functionality: date range generation and frequency\n",
       "    conversion, moving window statistics, date shifting and lagging.\n"
      ]
     },
     "metadata": {},
     "output_type": "display_data"
    }
   ],
   "source": [
    "pandas?"
   ]
  },
  {
   "cell_type": "code",
   "execution_count": null,
   "id": "f64cf10a-17c4-476f-a9e8-6313b82d3bd3",
   "metadata": {},
   "outputs": [],
   "source": []
  }
 ],
 "metadata": {
  "kernelspec": {
   "display_name": "Python 3 (ipykernel)",
   "language": "python",
   "name": "python3"
  },
  "language_info": {
   "codemirror_mode": {
    "name": "ipython",
    "version": 3
   },
   "file_extension": ".py",
   "mimetype": "text/x-python",
   "name": "python",
   "nbconvert_exporter": "python",
   "pygments_lexer": "ipython3",
   "version": "3.9.12"
  }
 },
 "nbformat": 4,
 "nbformat_minor": 5
}
