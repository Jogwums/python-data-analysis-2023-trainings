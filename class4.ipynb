{
 "cells": [
  {
   "cell_type": "markdown",
   "id": "b3872a9e-6fd6-4f46-8e2c-def123decf41",
   "metadata": {},
   "source": [
    "# List methods cont'd"
   ]
  },
  {
   "cell_type": "code",
   "execution_count": 1,
   "id": "71f790cd-2f42-402e-bee0-3581260a9639",
   "metadata": {},
   "outputs": [],
   "source": [
    "fruits = list()"
   ]
  },
  {
   "cell_type": "code",
   "execution_count": 2,
   "id": "1c495c09-79cc-4a42-bc44-6f826dde6ed1",
   "metadata": {},
   "outputs": [
    {
     "data": {
      "text/plain": [
       "list"
      ]
     },
     "execution_count": 2,
     "metadata": {},
     "output_type": "execute_result"
    }
   ],
   "source": [
    "type(fruits)"
   ]
  },
  {
   "cell_type": "code",
   "execution_count": 3,
   "id": "e5e69ada-648e-4eb5-a641-4bd14c05da99",
   "metadata": {},
   "outputs": [],
   "source": [
    "#add items to the list\n",
    "# append()\n",
    "fruits.append(\"apple\")"
   ]
  },
  {
   "cell_type": "code",
   "execution_count": 4,
   "id": "e2ce51bb-21ab-4cbe-a7e7-d6eda6034ff3",
   "metadata": {},
   "outputs": [
    {
     "data": {
      "text/plain": [
       "['apple']"
      ]
     },
     "execution_count": 4,
     "metadata": {},
     "output_type": "execute_result"
    }
   ],
   "source": [
    "fruits"
   ]
  },
  {
   "cell_type": "code",
   "execution_count": 5,
   "id": "4d6b9f01-ed22-43ef-8432-e941c64155ee",
   "metadata": {},
   "outputs": [],
   "source": [
    "fruits.append(\"grape\")"
   ]
  },
  {
   "cell_type": "code",
   "execution_count": 6,
   "id": "259d2f51-2081-4367-9ebd-34a58a545fee",
   "metadata": {},
   "outputs": [],
   "source": [
    "# insert()\n",
    "fruits.insert(1,\"lime\")"
   ]
  },
  {
   "cell_type": "code",
   "execution_count": 7,
   "id": "5abffa64-2b4d-40c3-ba73-ebdff0820cae",
   "metadata": {},
   "outputs": [
    {
     "data": {
      "text/plain": [
       "['apple', 'lime', 'grape']"
      ]
     },
     "execution_count": 7,
     "metadata": {},
     "output_type": "execute_result"
    }
   ],
   "source": [
    "fruits"
   ]
  },
  {
   "cell_type": "code",
   "execution_count": 8,
   "id": "2587c2b8-d9db-4f91-9071-b354680bbb35",
   "metadata": {},
   "outputs": [],
   "source": [
    "# remove elements from the list \n",
    "# pop(), remove(), del"
   ]
  },
  {
   "cell_type": "code",
   "execution_count": 9,
   "id": "60ad2750-0321-42b7-b59a-fd9927d557f1",
   "metadata": {},
   "outputs": [
    {
     "data": {
      "text/plain": [
       "'grape'"
      ]
     },
     "execution_count": 9,
     "metadata": {},
     "output_type": "execute_result"
    }
   ],
   "source": [
    "fruits.pop() # removes the last element"
   ]
  },
  {
   "cell_type": "code",
   "execution_count": 10,
   "id": "71e007e7-c8ef-4c21-a0fc-b137e87a8a3e",
   "metadata": {},
   "outputs": [
    {
     "data": {
      "text/plain": [
       "['apple', 'lime']"
      ]
     },
     "execution_count": 10,
     "metadata": {},
     "output_type": "execute_result"
    }
   ],
   "source": [
    "fruits"
   ]
  },
  {
   "cell_type": "code",
   "execution_count": 11,
   "id": "e7909a5f-6e51-4d73-88f2-b5b1c9eda9e7",
   "metadata": {},
   "outputs": [],
   "source": [
    "fruits.remove(\"lime\")"
   ]
  },
  {
   "cell_type": "code",
   "execution_count": 12,
   "id": "e07b866a-be87-4676-9462-8cb1a6a80fe9",
   "metadata": {},
   "outputs": [
    {
     "data": {
      "text/plain": [
       "['apple']"
      ]
     },
     "execution_count": 12,
     "metadata": {},
     "output_type": "execute_result"
    }
   ],
   "source": [
    "fruits"
   ]
  },
  {
   "cell_type": "code",
   "execution_count": 13,
   "id": "c9911211-41f0-4ab3-8a0d-b1fe4d8c72b2",
   "metadata": {},
   "outputs": [],
   "source": [
    "del fruits[0]"
   ]
  },
  {
   "cell_type": "code",
   "execution_count": 14,
   "id": "68413bea-af0f-4aae-8d06-77e9fff4d6b9",
   "metadata": {},
   "outputs": [
    {
     "data": {
      "text/plain": [
       "[]"
      ]
     },
     "execution_count": 14,
     "metadata": {},
     "output_type": "execute_result"
    }
   ],
   "source": [
    "fruits"
   ]
  },
  {
   "cell_type": "markdown",
   "id": "a6dc638d-f45c-4299-8f30-d83e8e3e6900",
   "metadata": {},
   "source": [
    "# dicts"
   ]
  },
  {
   "cell_type": "markdown",
   "id": "b2298e55-299e-45e1-83b5-b0299ee74e77",
   "metadata": {},
   "source": [
    "mapping type in python having key: value pairs"
   ]
  },
  {
   "cell_type": "code",
   "execution_count": 15,
   "id": "0bbe7397-3ef0-4a07-97cb-536c8cb01385",
   "metadata": {},
   "outputs": [],
   "source": [
    "person = {\"name\":\"Jane\",\n",
    "         \"age\":25,\n",
    "          \"job\":\"doctor\"\n",
    "         }"
   ]
  },
  {
   "cell_type": "code",
   "execution_count": 16,
   "id": "e3285b0c-f38c-4265-a779-fac1d5b77e08",
   "metadata": {},
   "outputs": [],
   "source": [
    "# accessing the dict"
   ]
  },
  {
   "cell_type": "code",
   "execution_count": 17,
   "id": "23aa49dd-7e30-4d1a-8720-65eaf6fcaebd",
   "metadata": {},
   "outputs": [
    {
     "data": {
      "text/plain": [
       "dict_keys(['name', 'age', 'job'])"
      ]
     },
     "execution_count": 17,
     "metadata": {},
     "output_type": "execute_result"
    }
   ],
   "source": [
    "person.keys()"
   ]
  },
  {
   "cell_type": "code",
   "execution_count": 18,
   "id": "9843424d-c463-409c-a676-61e40bf38855",
   "metadata": {},
   "outputs": [
    {
     "data": {
      "text/plain": [
       "dict_values(['Jane', 25, 'doctor'])"
      ]
     },
     "execution_count": 18,
     "metadata": {},
     "output_type": "execute_result"
    }
   ],
   "source": [
    "person.values()"
   ]
  },
  {
   "cell_type": "code",
   "execution_count": 19,
   "id": "7c5eb4e6-f798-445c-a78b-5e6f4fec1489",
   "metadata": {},
   "outputs": [
    {
     "data": {
      "text/plain": [
       "dict_items([('name', 'Jane'), ('age', 25), ('job', 'doctor')])"
      ]
     },
     "execution_count": 19,
     "metadata": {},
     "output_type": "execute_result"
    }
   ],
   "source": [
    "person.items()"
   ]
  },
  {
   "cell_type": "code",
   "execution_count": 20,
   "id": "c361bc2f-d475-4931-98a2-ba3829de2930",
   "metadata": {},
   "outputs": [
    {
     "data": {
      "text/plain": [
       "'Jane'"
      ]
     },
     "execution_count": 20,
     "metadata": {},
     "output_type": "execute_result"
    }
   ],
   "source": [
    "person['name']"
   ]
  },
  {
   "cell_type": "code",
   "execution_count": 22,
   "id": "ce768a0b-3e65-46f3-9f16-a420656d2eb9",
   "metadata": {},
   "outputs": [
    {
     "data": {
      "text/plain": [
       "25"
      ]
     },
     "execution_count": 22,
     "metadata": {},
     "output_type": "execute_result"
    }
   ],
   "source": [
    "person[\"age\"]"
   ]
  },
  {
   "cell_type": "code",
   "execution_count": 23,
   "id": "883eb835-3cc5-49c6-8df5-a7483779c8cc",
   "metadata": {},
   "outputs": [],
   "source": [
    "# add new items \n",
    "person[\"hair_color\"] = \"brown\""
   ]
  },
  {
   "cell_type": "code",
   "execution_count": 24,
   "id": "e16d1c7a-e1d5-43c7-8ff6-2e8fef137ee5",
   "metadata": {},
   "outputs": [
    {
     "name": "stdout",
     "output_type": "stream",
     "text": [
      "{'name': 'Jane', 'age': 25, 'job': 'doctor', 'hair_color': 'brown'}\n"
     ]
    }
   ],
   "source": [
    "print(person)"
   ]
  },
  {
   "cell_type": "code",
   "execution_count": 25,
   "id": "4b0a33f5-63fb-45c6-863c-2e0b100ecd52",
   "metadata": {},
   "outputs": [],
   "source": [
    "#update method\n",
    "person.update({\"exp\":\"2 years\"})"
   ]
  },
  {
   "cell_type": "code",
   "execution_count": 26,
   "id": "836f1264-b523-4029-89fe-a61758e2e5f9",
   "metadata": {},
   "outputs": [
    {
     "name": "stdout",
     "output_type": "stream",
     "text": [
      "{'name': 'Jane', 'age': 25, 'job': 'doctor', 'hair_color': 'brown', 'exp': '2 years'}\n"
     ]
    }
   ],
   "source": [
    "print(person)"
   ]
  },
  {
   "cell_type": "code",
   "execution_count": 27,
   "id": "b99d63ff-c158-43e0-9d69-f0fb2d2f2419",
   "metadata": {},
   "outputs": [],
   "source": [
    "# remove items using pop, popitem, del"
   ]
  },
  {
   "cell_type": "code",
   "execution_count": 28,
   "id": "465b517b-bead-40c6-818e-d5f8cc687eee",
   "metadata": {},
   "outputs": [
    {
     "data": {
      "text/plain": [
       "'doctor'"
      ]
     },
     "execution_count": 28,
     "metadata": {},
     "output_type": "execute_result"
    }
   ],
   "source": [
    "person.pop(\"job\")"
   ]
  },
  {
   "cell_type": "code",
   "execution_count": 29,
   "id": "ccd1c767-6105-416a-a551-171f985d489e",
   "metadata": {},
   "outputs": [
    {
     "name": "stdout",
     "output_type": "stream",
     "text": [
      "{'name': 'Jane', 'age': 25, 'hair_color': 'brown', 'exp': '2 years'}\n"
     ]
    }
   ],
   "source": [
    "print(person)"
   ]
  },
  {
   "cell_type": "code",
   "execution_count": 30,
   "id": "54490f5d-6164-4514-a5fa-6b2cf5abfb41",
   "metadata": {},
   "outputs": [],
   "source": [
    "# popitem() will remove the last item"
   ]
  },
  {
   "cell_type": "code",
   "execution_count": 31,
   "id": "f7f6c187-571f-4e59-8da0-a2d66a09ae6d",
   "metadata": {},
   "outputs": [],
   "source": [
    "# del person[\"name\"]"
   ]
  },
  {
   "cell_type": "code",
   "execution_count": null,
   "id": "9af74347-2c81-4860-b232-160069e13506",
   "metadata": {},
   "outputs": [],
   "source": [
    "# del person - deletes the whole dict "
   ]
  },
  {
   "cell_type": "code",
   "execution_count": 32,
   "id": "b5f8c425-b316-4641-9e49-ea94e70027a7",
   "metadata": {},
   "outputs": [],
   "source": [
    "# clear() will empty the dictionary"
   ]
  },
  {
   "cell_type": "code",
   "execution_count": 33,
   "id": "a6a022e0-6efe-4381-913a-74fee440e132",
   "metadata": {},
   "outputs": [],
   "source": [
    "# use a for loop to view the dict items"
   ]
  },
  {
   "cell_type": "code",
   "execution_count": 34,
   "id": "d1bbf506-6ddd-43d0-8017-73c0ae0037a8",
   "metadata": {},
   "outputs": [
    {
     "name": "stdout",
     "output_type": "stream",
     "text": [
      "name\n",
      "age\n",
      "hair_color\n",
      "exp\n"
     ]
    }
   ],
   "source": [
    "# we can start by viewing the keys\n",
    "for i in person:\n",
    "    print(i)"
   ]
  },
  {
   "cell_type": "code",
   "execution_count": 35,
   "id": "18e1fc83-07e6-4edc-b081-ded92c232577",
   "metadata": {},
   "outputs": [
    {
     "name": "stdout",
     "output_type": "stream",
     "text": [
      "Jane\n",
      "25\n",
      "brown\n",
      "2 years\n"
     ]
    }
   ],
   "source": [
    "# to view the values\n",
    "for i in person:\n",
    "    print(person[i])"
   ]
  },
  {
   "cell_type": "code",
   "execution_count": 36,
   "id": "4291676e-bce5-4436-8dc3-abbfc62d892e",
   "metadata": {},
   "outputs": [
    {
     "name": "stdout",
     "output_type": "stream",
     "text": [
      "name :: Jane\n",
      "age :: 25\n",
      "hair_color :: brown\n",
      "exp :: 2 years\n"
     ]
    }
   ],
   "source": [
    "for i,j in person.items():\n",
    "    print(f\"{i} :: {j}\")    "
   ]
  },
  {
   "cell_type": "markdown",
   "id": "36ade1c1-ec2d-4bd5-a1ff-82bc7a3a3cb4",
   "metadata": {},
   "source": [
    "## if statements and logical operators"
   ]
  },
  {
   "cell_type": "code",
   "execution_count": 37,
   "id": "6b763910-307c-466f-9f92-2aaadb8aeb34",
   "metadata": {},
   "outputs": [],
   "source": [
    "# logical operators\n",
    "\n",
    "# gt, >\n",
    "# lt, <\n",
    "# equals, ==\n",
    "# not equals, !=\n",
    "# greater than or equal to, >=\n",
    "# less than or equal to, <="
   ]
  },
  {
   "cell_type": "code",
   "execution_count": 38,
   "id": "618f3102-4bf2-4692-b5fc-f0f9c47a5606",
   "metadata": {},
   "outputs": [],
   "source": [
    "# examples"
   ]
  },
  {
   "cell_type": "code",
   "execution_count": 39,
   "id": "9a0e4599-4a23-4aa0-8439-f7fa2a11330b",
   "metadata": {},
   "outputs": [],
   "source": [
    "a = 40\n",
    "b = 200"
   ]
  },
  {
   "cell_type": "code",
   "execution_count": 40,
   "id": "9a360151-3642-4d14-8d7f-c50913eda41b",
   "metadata": {},
   "outputs": [
    {
     "name": "stdout",
     "output_type": "stream",
     "text": [
      "False\n"
     ]
    }
   ],
   "source": [
    "print(a>b)"
   ]
  },
  {
   "cell_type": "code",
   "execution_count": 42,
   "id": "8eb98a87-a605-4d30-b82e-eb31349e3b93",
   "metadata": {},
   "outputs": [
    {
     "name": "stdout",
     "output_type": "stream",
     "text": [
      "False\n"
     ]
    }
   ],
   "source": [
    "print(a == b)"
   ]
  },
  {
   "cell_type": "code",
   "execution_count": 43,
   "id": "5c116f6b-bde6-4b5d-a6ce-dc33377c276f",
   "metadata": {},
   "outputs": [
    {
     "name": "stdout",
     "output_type": "stream",
     "text": [
      "True\n"
     ]
    }
   ],
   "source": [
    "print(b > a)"
   ]
  },
  {
   "cell_type": "markdown",
   "id": "5d07ff64-5889-4808-9eba-d23be752242f",
   "metadata": {},
   "source": [
    "### if statements for conditional rendering"
   ]
  },
  {
   "cell_type": "code",
   "execution_count": 45,
   "id": "27969ce2-067d-4c35-b9e2-852e93f50293",
   "metadata": {},
   "outputs": [
    {
     "name": "stdout",
     "output_type": "stream",
     "text": [
      " b is greater\n"
     ]
    }
   ],
   "source": [
    "if b > a:\n",
    "    print(\" b is greater\")"
   ]
  },
  {
   "cell_type": "code",
   "execution_count": 49,
   "id": "149a2b3d-1ea5-4d14-a36a-8281a511b070",
   "metadata": {},
   "outputs": [
    {
     "ename": "IndentationError",
     "evalue": "expected an indented block (1302012670.py, line 2)",
     "output_type": "error",
     "traceback": [
      "\u001b[1;36m  Input \u001b[1;32mIn [49]\u001b[1;36m\u001b[0m\n\u001b[1;33m    print(\"b is greater\")\u001b[0m\n\u001b[1;37m    ^\u001b[0m\n\u001b[1;31mIndentationError\u001b[0m\u001b[1;31m:\u001b[0m expected an indented block\n"
     ]
    }
   ],
   "source": [
    "if a < b:\n",
    "print(\"b is greater\")"
   ]
  },
  {
   "cell_type": "code",
   "execution_count": 50,
   "id": "25088e84-1648-4bf5-a856-3fe60fe3e4e5",
   "metadata": {},
   "outputs": [],
   "source": [
    "# more than 1 condition is handled using the elif"
   ]
  },
  {
   "cell_type": "code",
   "execution_count": 51,
   "id": "6ebe3dc0-8d36-41dd-81d6-07843fb30e63",
   "metadata": {},
   "outputs": [
    {
     "name": "stdout",
     "output_type": "stream",
     "text": [
      "b is greater\n"
     ]
    }
   ],
   "source": [
    "if a > b:\n",
    "    print(\"a is greater\")\n",
    "elif b > a:\n",
    "    print(\"b is greater\")"
   ]
  },
  {
   "cell_type": "code",
   "execution_count": 52,
   "id": "a35d216d-3312-4047-99e7-695556761e17",
   "metadata": {},
   "outputs": [],
   "source": [
    "# use else statement for the default state"
   ]
  },
  {
   "cell_type": "code",
   "execution_count": 54,
   "id": "8bdd9e54-db16-47de-b516-8fe572392b52",
   "metadata": {},
   "outputs": [
    {
     "name": "stdout",
     "output_type": "stream",
     "text": [
      "b is greater\n"
     ]
    }
   ],
   "source": [
    "if a > b:\n",
    "    print(\"a is greater\")\n",
    "elif b > a:\n",
    "    print(\"b is greater\")\n",
    "else:\n",
    "    print(\"they are equal\")"
   ]
  },
  {
   "cell_type": "code",
   "execution_count": 55,
   "id": "22a0c85c-233f-4f3c-a052-4ac76a532fbb",
   "metadata": {},
   "outputs": [],
   "source": [
    "# shorthands for single if statement"
   ]
  },
  {
   "cell_type": "code",
   "execution_count": 56,
   "id": "5b6f9067-e2cd-4e9a-b702-c9c852c3975e",
   "metadata": {},
   "outputs": [
    {
     "name": "stdout",
     "output_type": "stream",
     "text": [
      "b is greater\n"
     ]
    }
   ],
   "source": [
    "if a < b: print(\"b is greater\")"
   ]
  },
  {
   "cell_type": "code",
   "execution_count": 57,
   "id": "c246ed7a-9896-44ec-9cb9-da212bbf4bc7",
   "metadata": {},
   "outputs": [
    {
     "name": "stdout",
     "output_type": "stream",
     "text": [
      "b is greater\n"
     ]
    }
   ],
   "source": [
    "print(\"a is greater\") if a > b else print(\"b is greater\")"
   ]
  },
  {
   "cell_type": "code",
   "execution_count": 59,
   "id": "42d4f119-0279-4ede-b387-3a34198aae99",
   "metadata": {},
   "outputs": [],
   "source": [
    "# for multiple conditions, and & or operators can be used. (keywords)"
   ]
  },
  {
   "cell_type": "code",
   "execution_count": 60,
   "id": "725e92dd-92f3-4eb2-86b1-d12b98e97c0d",
   "metadata": {},
   "outputs": [],
   "source": [
    "a, b, c = 200, 40, 200"
   ]
  },
  {
   "cell_type": "code",
   "execution_count": 61,
   "id": "d7da2d60-e5e2-4aae-8ce8-7fe3baa8d5fa",
   "metadata": {},
   "outputs": [
    {
     "name": "stdout",
     "output_type": "stream",
     "text": [
      "both conditions are true\n"
     ]
    }
   ],
   "source": [
    "if a > b and a == c:\n",
    "    print(\"both conditions are true\")"
   ]
  },
  {
   "cell_type": "code",
   "execution_count": 62,
   "id": "95b4b008-d08d-4d58-a980-511309713fb6",
   "metadata": {},
   "outputs": [
    {
     "name": "stdout",
     "output_type": "stream",
     "text": [
      "at least one condition is true\n"
     ]
    }
   ],
   "source": [
    "# or \n",
    "if a > b or a < c:\n",
    "    print(\"at least one condition is true\")"
   ]
  },
  {
   "cell_type": "markdown",
   "id": "30391d1e-4ea2-424b-9256-9b84d8cf0783",
   "metadata": {},
   "source": [
    "# Functions"
   ]
  },
  {
   "cell_type": "markdown",
   "id": "0b0eb344-495f-4bb5-a0f9-4353a9e1093e",
   "metadata": {},
   "source": [
    "a python function is a block of code which runs on when it is called"
   ]
  },
  {
   "cell_type": "markdown",
   "id": "ebe1b034-b71e-471c-b131-dfd44125350a",
   "metadata": {},
   "source": [
    "to create a function use the 'def' keyword"
   ]
  },
  {
   "cell_type": "code",
   "execution_count": 65,
   "id": "79807e76-8696-45a6-a819-93995540fd02",
   "metadata": {},
   "outputs": [],
   "source": [
    "def myfunction():\n",
    "    print('Hello ...')"
   ]
  },
  {
   "cell_type": "code",
   "execution_count": 66,
   "id": "7bd9d234-4a7b-47d8-ae61-e013a0023e09",
   "metadata": {},
   "outputs": [
    {
     "name": "stdout",
     "output_type": "stream",
     "text": [
      "Hello ...\n"
     ]
    }
   ],
   "source": [
    "#call the function\n",
    "myfunction()"
   ]
  },
  {
   "cell_type": "code",
   "execution_count": 67,
   "id": "43567588-dc24-4eb9-b6dc-5c30f7415e5a",
   "metadata": {},
   "outputs": [],
   "source": [
    "# functions can have return statement\n",
    "def myfunction2():\n",
    "    print(\"Welcome\")\n",
    "    return \"Hello\"\n",
    "    print(\"I won't show\")"
   ]
  },
  {
   "cell_type": "code",
   "execution_count": 68,
   "id": "7afe6a93-0587-44df-beb7-6ac3723dcd8a",
   "metadata": {},
   "outputs": [
    {
     "name": "stdout",
     "output_type": "stream",
     "text": [
      "Welcome\n"
     ]
    },
    {
     "data": {
      "text/plain": [
       "'Hello'"
      ]
     },
     "execution_count": 68,
     "metadata": {},
     "output_type": "execute_result"
    }
   ],
   "source": [
    "myfunction2()"
   ]
  },
  {
   "cell_type": "code",
   "execution_count": 69,
   "id": "415ad947-9a3f-4d34-bdd0-95fd908a6c02",
   "metadata": {},
   "outputs": [],
   "source": [
    "# function syntax\n",
    "# def keyword\n",
    "# function name\n",
    "# parenthesis\n",
    "# (pass data into the function, in form of parameters)\n",
    "# function block\n",
    "\n",
    "# def myfunction(x,y):\n",
    "#    sum_x_y = x+y\n",
    "#    return sum_x_y"
   ]
  },
  {
   "cell_type": "code",
   "execution_count": 70,
   "id": "6b4591f1-1f02-4b6c-9d74-a12bbdf5a2be",
   "metadata": {},
   "outputs": [],
   "source": [
    "def calculateSum(no1, no2):\n",
    "    add = no1 + no2\n",
    "    return add"
   ]
  },
  {
   "cell_type": "code",
   "execution_count": 71,
   "id": "aa1f3c9d-7ea8-4fa3-8029-7e501d4f9daf",
   "metadata": {},
   "outputs": [],
   "source": [
    "# function name : calculateSum\n",
    "# it takes 2 parameters: no1, no2\n",
    "# in the function body: add the 2 nos together\n",
    "# return the result of the addition"
   ]
  },
  {
   "cell_type": "code",
   "execution_count": 72,
   "id": "d05678e9-d0c4-466c-b1d2-a498fa69ac2f",
   "metadata": {},
   "outputs": [
    {
     "data": {
      "text/plain": [
       "80"
      ]
     },
     "execution_count": 72,
     "metadata": {},
     "output_type": "execute_result"
    }
   ],
   "source": [
    "# call the function and provide 2 numbers you want to add\n",
    "calculateSum(50, 30)"
   ]
  },
  {
   "cell_type": "markdown",
   "id": "b0e165b8-aabe-4204-b43f-ee15cb150873",
   "metadata": {},
   "source": [
    "at the point of caling the function, the data passed into the function is called the function argument or args"
   ]
  },
  {
   "cell_type": "markdown",
   "id": "a2be6b67-47cf-4c5d-adad-a385c8361b20",
   "metadata": {},
   "source": [
    "typically parameters are used to make your function dynamic"
   ]
  },
  {
   "cell_type": "markdown",
   "id": "5ef81756-c324-4c99-a318-d92adcd60820",
   "metadata": {},
   "source": [
    "## practice"
   ]
  },
  {
   "cell_type": "markdown",
   "id": "b3d62ab7-eb68-45dc-8899-4cc66633be4a",
   "metadata": {},
   "source": [
    "Q1. Create a function to multiply any 2 numbers given\n",
    "\n",
    "Q2. Create a function to request a name and greet the user"
   ]
  },
  {
   "cell_type": "markdown",
   "id": "b1ec77dd-67bc-43c7-ba99-ce40a0a3a60d",
   "metadata": {},
   "source": [
    "### solution"
   ]
  },
  {
   "cell_type": "code",
   "execution_count": 73,
   "id": "1a12779f-816e-44cc-bb03-486cdde0bde9",
   "metadata": {},
   "outputs": [],
   "source": [
    "def calculateProduct(x, y):\n",
    "    prod = x * y\n",
    "    return prod"
   ]
  },
  {
   "cell_type": "code",
   "execution_count": 74,
   "id": "9d3a3668-5a88-4d87-b62b-7961286551f1",
   "metadata": {},
   "outputs": [
    {
     "data": {
      "text/plain": [
       "24"
      ]
     },
     "execution_count": 74,
     "metadata": {},
     "output_type": "execute_result"
    }
   ],
   "source": [
    "calculateProduct(4, 6)"
   ]
  },
  {
   "cell_type": "code",
   "execution_count": 75,
   "id": "5f718e4b-23e6-4670-8dd0-45d0382237c8",
   "metadata": {},
   "outputs": [],
   "source": [
    "# Q2\n",
    "\n",
    "def greet():\n",
    "    name = input(\"Please enter your name\")\n",
    "    msg = \"Hello \"\n",
    "    return msg + name"
   ]
  },
  {
   "cell_type": "code",
   "execution_count": 76,
   "id": "63d8abd8-db67-471f-b7ea-3423228a09ba",
   "metadata": {},
   "outputs": [
    {
     "name": "stdin",
     "output_type": "stream",
     "text": [
      "Please enter your name Jonathan\n"
     ]
    },
    {
     "data": {
      "text/plain": [
       "'Hello Jonathan'"
      ]
     },
     "execution_count": 76,
     "metadata": {},
     "output_type": "execute_result"
    }
   ],
   "source": [
    "greet()"
   ]
  },
  {
   "cell_type": "code",
   "execution_count": 77,
   "id": "376c7bd9-c3da-48d1-b334-0acbaf5a57ae",
   "metadata": {},
   "outputs": [],
   "source": [
    "# Create a function to greet based on the time of day"
   ]
  },
  {
   "cell_type": "code",
   "execution_count": 80,
   "id": "57e396af-037b-4704-83b2-b0bdf898a49e",
   "metadata": {},
   "outputs": [],
   "source": [
    "def greet():\n",
    "    import datetime\n",
    "    time = datetime.datetime.now()\n",
    "    hour = time.hour\n",
    "    msg = []\n",
    "    # hint hour < 12: morning; hour < 18: afternoon: else evening\n",
    "    if hour < 12:\n",
    "        msg.append(\"Good morning \")\n",
    "    elif hour < 18:\n",
    "        msg.append(\"Good afternoon \")\n",
    "    else:\n",
    "        msg.append(\"Good evening \")\n",
    "    name = input(\"Please enter your name\")\n",
    "    message = \"Hello \"+ name +\", \"+ msg[0]\n",
    "    return message"
   ]
  },
  {
   "cell_type": "code",
   "execution_count": 81,
   "id": "bed2d573-a484-4279-b736-5ef0ec9ca9fc",
   "metadata": {},
   "outputs": [
    {
     "name": "stdin",
     "output_type": "stream",
     "text": [
      "Please enter your name joy\n"
     ]
    },
    {
     "data": {
      "text/plain": [
       "'Hello joy, Good afternoon '"
      ]
     },
     "execution_count": 81,
     "metadata": {},
     "output_type": "execute_result"
    }
   ],
   "source": [
    "greet()"
   ]
  },
  {
   "cell_type": "markdown",
   "id": "ab81aab6-0507-494b-a07e-1b5123397968",
   "metadata": {},
   "source": [
    "# Assignment"
   ]
  },
  {
   "cell_type": "markdown",
   "id": "f9f6f887-909c-447b-9498-0aeaf56ed124",
   "metadata": {},
   "source": [
    "1. create a function to find the area of a triangle, given the base and height\n",
    "\n",
    "2. Create a function to calculate the total number of legs in farm with 4 species of animals\n",
    "    - Species: cows,pigs,chickens,rabbits\n",
    "    - Number of animals: 120, 50, 100, 25 respectively\n",
    "    - Your function should be dynamic, if the number of animals changes\n",
    "    \n",
    "3. Create a function to find the middle item in a list"
   ]
  },
  {
   "cell_type": "code",
   "execution_count": null,
   "id": "4f7969a1-16b3-485d-a67b-f32b04970ce9",
   "metadata": {},
   "outputs": [],
   "source": []
  }
 ],
 "metadata": {
  "kernelspec": {
   "display_name": "Python 3 (ipykernel)",
   "language": "python",
   "name": "python3"
  },
  "language_info": {
   "codemirror_mode": {
    "name": "ipython",
    "version": 3
   },
   "file_extension": ".py",
   "mimetype": "text/x-python",
   "name": "python",
   "nbconvert_exporter": "python",
   "pygments_lexer": "ipython3",
   "version": "3.9.12"
  }
 },
 "nbformat": 4,
 "nbformat_minor": 5
}
