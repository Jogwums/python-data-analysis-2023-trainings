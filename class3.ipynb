{
 "cells": [
  {
   "cell_type": "markdown",
   "id": "5734c44b-cca3-47a7-8fba-d8762d57a478",
   "metadata": {},
   "source": [
    "# Correction"
   ]
  },
  {
   "cell_type": "code",
   "execution_count": 1,
   "id": "99977941-618c-4b52-b99c-e531ac5c5704",
   "metadata": {},
   "outputs": [],
   "source": [
    "# Q1"
   ]
  },
  {
   "cell_type": "code",
   "execution_count": 3,
   "id": "277ebeeb-7d07-45e0-a001-756ed3ac8ee6",
   "metadata": {},
   "outputs": [
    {
     "name": "stdout",
     "output_type": "stream",
     "text": [
      "8863\n"
     ]
    }
   ],
   "source": [
    "file = open(\"./datasets/romeo_full.txt\",'r')\n",
    "char_count = len(file.read())\n",
    "print(char_count)"
   ]
  },
  {
   "cell_type": "code",
   "execution_count": 4,
   "id": "ff53a52e-3ffa-4583-91be-7f1aead51af2",
   "metadata": {},
   "outputs": [],
   "source": [
    "# Q2"
   ]
  },
  {
   "cell_type": "code",
   "execution_count": 5,
   "id": "5c2d1b19-77de-4317-b534-ace232f17883",
   "metadata": {},
   "outputs": [
    {
     "name": "stdout",
     "output_type": "stream",
     "text": [
      "89\n"
     ]
    }
   ],
   "source": [
    "file = open(\"./datasets/text01.txt\",'r')\n",
    "char_count = len(file.read())\n",
    "print(char_count)"
   ]
  },
  {
   "cell_type": "code",
   "execution_count": 6,
   "id": "0699a8be-5bbd-4f3c-9dba-47ea82ccbaef",
   "metadata": {},
   "outputs": [],
   "source": [
    "# Q3 - words"
   ]
  },
  {
   "cell_type": "code",
   "execution_count": 7,
   "id": "646b8248-5024-442a-b291-a05b3c659ae4",
   "metadata": {},
   "outputs": [
    {
     "name": "stdout",
     "output_type": "stream",
     "text": [
      "1656\n"
     ]
    }
   ],
   "source": [
    "file = open(\"./datasets/romeo_full.txt\",'r')\n",
    "read_file = file.read()\n",
    "words = read_file.split()\n",
    "print(len(words))"
   ]
  },
  {
   "cell_type": "markdown",
   "id": "bca6f97d-8861-48bd-9fbb-62571b526c62",
   "metadata": {},
   "source": [
    "# using the 'with keyword'"
   ]
  },
  {
   "cell_type": "code",
   "execution_count": 8,
   "id": "f828b5c3-bb4f-418f-a0ca-3cb40b232efa",
   "metadata": {},
   "outputs": [],
   "source": [
    "# Opening and closing files with the with keyword. \n",
    "# You no longer need the file.close() mthd"
   ]
  },
  {
   "cell_type": "code",
   "execution_count": 10,
   "id": "e80df40d-ad9a-4202-8fcd-1e762badbf8f",
   "metadata": {},
   "outputs": [],
   "source": [
    "with open(\"./datasets/romeo_full.txt\",'r') as f:\n",
    "    read_file = f.read()\n",
    "    # print(read_file)"
   ]
  },
  {
   "cell_type": "markdown",
   "id": "ddf6f771-100a-40d9-8c3c-e9f3a497635d",
   "metadata": {},
   "source": [
    "# List Methods"
   ]
  },
  {
   "cell_type": "code",
   "execution_count": 13,
   "id": "dc1c7ddc-035a-4fa1-9e79-8f0370457352",
   "metadata": {},
   "outputs": [
    {
     "name": "stdout",
     "output_type": "stream",
     "text": [
      "<class 'list'>\n"
     ]
    }
   ],
   "source": [
    "print(type(words))"
   ]
  },
  {
   "cell_type": "code",
   "execution_count": 15,
   "id": "f93eba63-2446-485e-bf6b-d35603a1a03e",
   "metadata": {},
   "outputs": [],
   "source": [
    "cars = ['toyota','honda','benz','bmw','tesla']"
   ]
  },
  {
   "cell_type": "code",
   "execution_count": 16,
   "id": "dbe3aa79-d997-4dce-86bd-536cd7842dff",
   "metadata": {},
   "outputs": [],
   "source": [
    "# index numbers"
   ]
  },
  {
   "cell_type": "code",
   "execution_count": 17,
   "id": "d6434d42-95ee-4077-88bd-b69bae1fffa0",
   "metadata": {},
   "outputs": [
    {
     "name": "stdout",
     "output_type": "stream",
     "text": [
      "toyota\n"
     ]
    }
   ],
   "source": [
    "print(cars[0])"
   ]
  },
  {
   "cell_type": "code",
   "execution_count": 18,
   "id": "2d171bf6-6666-4b3c-be66-200da733684e",
   "metadata": {},
   "outputs": [],
   "source": [
    "# index 0 is the first item in the list "
   ]
  },
  {
   "cell_type": "code",
   "execution_count": 19,
   "id": "e09c82dd-f9b3-4a68-8f3f-6aebd527f38a",
   "metadata": {},
   "outputs": [],
   "source": [
    "# last item in the list can be obtained using -ve indexing"
   ]
  },
  {
   "cell_type": "code",
   "execution_count": 20,
   "id": "9123c586-d976-4277-a0fe-4db9afa8ced2",
   "metadata": {},
   "outputs": [
    {
     "name": "stdout",
     "output_type": "stream",
     "text": [
      "tesla\n"
     ]
    }
   ],
   "source": [
    "print(cars[-1])"
   ]
  },
  {
   "cell_type": "code",
   "execution_count": 21,
   "id": "a8064c09-8353-43f5-a3dc-151d561068d1",
   "metadata": {},
   "outputs": [],
   "source": [
    "# first 2 items in the list "
   ]
  },
  {
   "cell_type": "code",
   "execution_count": 22,
   "id": "856b88da-da97-40f6-9a27-2f67dbaf2f15",
   "metadata": {},
   "outputs": [
    {
     "name": "stdout",
     "output_type": "stream",
     "text": [
      "['toyota', 'honda']\n"
     ]
    }
   ],
   "source": [
    "print(cars[0:2])"
   ]
  },
  {
   "cell_type": "code",
   "execution_count": 23,
   "id": "eed3371a-b39a-40d9-bc21-87eff2a8c8ac",
   "metadata": {},
   "outputs": [],
   "source": [
    "# index at 2 will not be included"
   ]
  },
  {
   "cell_type": "code",
   "execution_count": 24,
   "id": "0891322e-0a84-466c-ab88-cf262576861c",
   "metadata": {},
   "outputs": [],
   "source": [
    "# skipping the start value will \n",
    "# start from the first term"
   ]
  },
  {
   "cell_type": "code",
   "execution_count": 25,
   "id": "e22b3c1e-fc7c-4abb-826c-e6f2f21e43a1",
   "metadata": {},
   "outputs": [
    {
     "data": {
      "text/plain": [
       "['benz', 'bmw']"
      ]
     },
     "execution_count": 25,
     "metadata": {},
     "output_type": "execute_result"
    }
   ],
   "source": [
    "cars[2:4]"
   ]
  },
  {
   "cell_type": "code",
   "execution_count": 26,
   "id": "1572b8f2-0368-41ad-b295-c7fde8dceee1",
   "metadata": {},
   "outputs": [
    {
     "data": {
      "text/plain": [
       "['toyota', 'honda', 'benz', 'bmw']"
      ]
     },
     "execution_count": 26,
     "metadata": {},
     "output_type": "execute_result"
    }
   ],
   "source": [
    "cars[:4]"
   ]
  },
  {
   "cell_type": "code",
   "execution_count": 28,
   "id": "13332d95-889f-42c6-a3ad-87154af5386f",
   "metadata": {},
   "outputs": [
    {
     "data": {
      "text/plain": [
       "['honda', 'benz', 'bmw', 'tesla']"
      ]
     },
     "execution_count": 28,
     "metadata": {},
     "output_type": "execute_result"
    }
   ],
   "source": [
    "cars[1:]"
   ]
  },
  {
   "cell_type": "code",
   "execution_count": 29,
   "id": "b0291024-beaa-4b23-930b-d05aba39676f",
   "metadata": {},
   "outputs": [],
   "source": [
    "# negative range index"
   ]
  },
  {
   "cell_type": "code",
   "execution_count": 30,
   "id": "915da369-c163-48dd-bedf-2b6b726ce33c",
   "metadata": {},
   "outputs": [
    {
     "data": {
      "text/plain": [
       "['benz', 'bmw']"
      ]
     },
     "execution_count": 30,
     "metadata": {},
     "output_type": "execute_result"
    }
   ],
   "source": [
    "cars[-3:-1]"
   ]
  },
  {
   "cell_type": "code",
   "execution_count": 31,
   "id": "616ec9b7-e3ab-4cdc-8275-49cc32205b98",
   "metadata": {},
   "outputs": [
    {
     "data": {
      "text/plain": [
       "['benz', 'bmw', 'tesla']"
      ]
     },
     "execution_count": 31,
     "metadata": {},
     "output_type": "execute_result"
    }
   ],
   "source": [
    "cars[-3:]"
   ]
  },
  {
   "cell_type": "code",
   "execution_count": 32,
   "id": "802009b7-d4d8-45a1-a483-d60d748ec88e",
   "metadata": {},
   "outputs": [
    {
     "data": {
      "text/plain": [
       "[]"
      ]
     },
     "execution_count": 32,
     "metadata": {},
     "output_type": "execute_result"
    }
   ],
   "source": [
    "cars[-1:-3]"
   ]
  },
  {
   "cell_type": "code",
   "execution_count": 33,
   "id": "553948ac-8fd1-460f-9f50-a0357f22fb4e",
   "metadata": {},
   "outputs": [],
   "source": [
    "# check if an item is in a list "
   ]
  },
  {
   "cell_type": "code",
   "execution_count": 34,
   "id": "aca5ae87-18f6-44d3-b494-f1a0827ebd44",
   "metadata": {},
   "outputs": [],
   "source": [
    "# using the 'in' keyword"
   ]
  },
  {
   "cell_type": "code",
   "execution_count": 35,
   "id": "60d4704f-be41-46bf-838b-50bcb9d54f7d",
   "metadata": {},
   "outputs": [
    {
     "data": {
      "text/plain": [
       "['toyota', 'honda', 'benz', 'bmw', 'tesla']"
      ]
     },
     "execution_count": 35,
     "metadata": {},
     "output_type": "execute_result"
    }
   ],
   "source": [
    "cars"
   ]
  },
  {
   "cell_type": "code",
   "execution_count": 36,
   "id": "851f1ff0-f99a-4040-999c-23bd5fd32e8e",
   "metadata": {},
   "outputs": [
    {
     "name": "stdout",
     "output_type": "stream",
     "text": [
      "True\n"
     ]
    }
   ],
   "source": [
    "if \"bmw\" in cars:\n",
    "    print(True)"
   ]
  },
  {
   "cell_type": "code",
   "execution_count": 37,
   "id": "8a219bc2-c465-4c5f-8526-54dbaf35dd9d",
   "metadata": {},
   "outputs": [],
   "source": [
    "if \"lexus\" in cars:\n",
    "    print(True)"
   ]
  },
  {
   "cell_type": "code",
   "execution_count": null,
   "id": "ed00b49b-8cdf-4f11-b886-d7dc038a9ef8",
   "metadata": {},
   "outputs": [],
   "source": [
    "# change items in a list"
   ]
  },
  {
   "cell_type": "code",
   "execution_count": 38,
   "id": "681c5d1c-f42d-44f0-b0a4-53e8407d6d99",
   "metadata": {},
   "outputs": [
    {
     "data": {
      "text/plain": [
       "['toyota', 'honda', 'benz', 'bmw', 'tesla']"
      ]
     },
     "execution_count": 38,
     "metadata": {},
     "output_type": "execute_result"
    }
   ],
   "source": [
    "cars"
   ]
  },
  {
   "cell_type": "code",
   "execution_count": 40,
   "id": "c5a0e4ae-7200-40c6-9243-2a543cf6ef29",
   "metadata": {},
   "outputs": [],
   "source": [
    "cars[1] = \"acura\""
   ]
  },
  {
   "cell_type": "code",
   "execution_count": 41,
   "id": "a57ce1c8-78a2-4360-885a-9e0396814f12",
   "metadata": {},
   "outputs": [
    {
     "data": {
      "text/plain": [
       "['toyota', 'acura', 'benz', 'bmw', 'tesla']"
      ]
     },
     "execution_count": 41,
     "metadata": {},
     "output_type": "execute_result"
    }
   ],
   "source": [
    "cars"
   ]
  },
  {
   "cell_type": "markdown",
   "id": "136f492b-96c5-455e-b341-73bd9569c669",
   "metadata": {},
   "source": [
    "we can replace multiple values using the range index"
   ]
  },
  {
   "cell_type": "code",
   "execution_count": 42,
   "id": "a2364e37-58be-4a9b-b02b-efaea43811fe",
   "metadata": {},
   "outputs": [],
   "source": [
    "cars[2:4] = [\"lexus\",\"gmc\"]"
   ]
  },
  {
   "cell_type": "code",
   "execution_count": 43,
   "id": "b3f46de6-7ee9-40fe-ad19-e5df0f2d331d",
   "metadata": {},
   "outputs": [
    {
     "data": {
      "text/plain": [
       "['toyota', 'acura', 'lexus', 'gmc', 'tesla']"
      ]
     },
     "execution_count": 43,
     "metadata": {},
     "output_type": "execute_result"
    }
   ],
   "source": [
    "cars"
   ]
  },
  {
   "cell_type": "code",
   "execution_count": 44,
   "id": "d6400e95-a2f6-47d4-9bd0-65f8a6b36748",
   "metadata": {},
   "outputs": [],
   "source": [
    "# insert keyword"
   ]
  },
  {
   "cell_type": "code",
   "execution_count": 45,
   "id": "b7f419a2-001b-4594-8965-d0a49fca84c9",
   "metadata": {},
   "outputs": [],
   "source": [
    "# cars.insert(position,new_item)"
   ]
  },
  {
   "cell_type": "code",
   "execution_count": 46,
   "id": "dcf67220-c34a-407e-8525-0248b99bd2ec",
   "metadata": {},
   "outputs": [],
   "source": [
    "cars.insert(3,'chevy')"
   ]
  },
  {
   "cell_type": "code",
   "execution_count": 47,
   "id": "46cbb3ef-0a51-4c85-9082-41dae09e8968",
   "metadata": {},
   "outputs": [
    {
     "data": {
      "text/plain": [
       "['toyota', 'acura', 'lexus', 'chevy', 'gmc', 'tesla']"
      ]
     },
     "execution_count": 47,
     "metadata": {},
     "output_type": "execute_result"
    }
   ],
   "source": [
    "cars"
   ]
  },
  {
   "cell_type": "markdown",
   "id": "326d4b1f-841e-48ea-b2a8-adbf6389f5ea",
   "metadata": {},
   "source": [
    "# assignments"
   ]
  },
  {
   "cell_type": "markdown",
   "id": "0c2325f8-617a-4a14-a527-c013ffd96216",
   "metadata": {},
   "source": [
    "Q1. You have a series of items to buy at the market\n",
    "Create a shopping list of 5 to 10 items.\n",
    "\n",
    "Q2. On getting to the market, you first try to find out the prices\n",
    "of the items from 2 different sellers. \n",
    "sellers A and B.\n",
    "How would you store this new information? \n",
    "Provide a sample"
   ]
  },
  {
   "cell_type": "code",
   "execution_count": null,
   "id": "446959bc-4c0b-422b-9bcc-4862a5f270b9",
   "metadata": {},
   "outputs": [],
   "source": []
  }
 ],
 "metadata": {
  "kernelspec": {
   "display_name": "Python 3 (ipykernel)",
   "language": "python",
   "name": "python3"
  },
  "language_info": {
   "codemirror_mode": {
    "name": "ipython",
    "version": 3
   },
   "file_extension": ".py",
   "mimetype": "text/x-python",
   "name": "python",
   "nbconvert_exporter": "python",
   "pygments_lexer": "ipython3",
   "version": "3.9.12"
  }
 },
 "nbformat": 4,
 "nbformat_minor": 5
}
