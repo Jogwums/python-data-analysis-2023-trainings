{
 "cells": [
  {
   "cell_type": "markdown",
   "id": "05877823-7118-4da6-b285-f3d0cef0e86b",
   "metadata": {},
   "source": [
    "# Regression contd"
   ]
  },
  {
   "cell_type": "code",
   "execution_count": 1,
   "id": "bd3f9f0e-87a3-4ef7-b299-6fb637287954",
   "metadata": {},
   "outputs": [
    {
     "name": "stdout",
     "output_type": "stream",
     "text": [
      "ready\n"
     ]
    }
   ],
   "source": [
    "import numpy as np, pandas as pd\n",
    "import matplotlib.pyplot as plt, seaborn as sns\n",
    "import scipy.stats as stats\n",
    "print('ready')"
   ]
  },
  {
   "cell_type": "code",
   "execution_count": 2,
   "id": "4f3f755b-940e-4496-b5d1-efac840418e3",
   "metadata": {},
   "outputs": [
    {
     "data": {
      "text/plain": [
       "['anagrams',\n",
       " 'anscombe',\n",
       " 'attention',\n",
       " 'brain_networks',\n",
       " 'car_crashes',\n",
       " 'diamonds',\n",
       " 'dots',\n",
       " 'dowjones',\n",
       " 'exercise',\n",
       " 'flights',\n",
       " 'fmri',\n",
       " 'geyser',\n",
       " 'glue',\n",
       " 'healthexp',\n",
       " 'iris',\n",
       " 'mpg',\n",
       " 'penguins',\n",
       " 'planets',\n",
       " 'seaice',\n",
       " 'taxis',\n",
       " 'tips',\n",
       " 'titanic']"
      ]
     },
     "execution_count": 2,
     "metadata": {},
     "output_type": "execute_result"
    }
   ],
   "source": [
    "sns.get_dataset_names()"
   ]
  },
  {
   "cell_type": "code",
   "execution_count": 3,
   "id": "530aa661-b1aa-4312-b51c-9812eb9782bb",
   "metadata": {},
   "outputs": [
    {
     "data": {
      "text/html": [
       "<div>\n",
       "<style scoped>\n",
       "    .dataframe tbody tr th:only-of-type {\n",
       "        vertical-align: middle;\n",
       "    }\n",
       "\n",
       "    .dataframe tbody tr th {\n",
       "        vertical-align: top;\n",
       "    }\n",
       "\n",
       "    .dataframe thead th {\n",
       "        text-align: right;\n",
       "    }\n",
       "</style>\n",
       "<table border=\"1\" class=\"dataframe\">\n",
       "  <thead>\n",
       "    <tr style=\"text-align: right;\">\n",
       "      <th></th>\n",
       "      <th>total</th>\n",
       "      <th>speeding</th>\n",
       "      <th>alcohol</th>\n",
       "      <th>not_distracted</th>\n",
       "      <th>no_previous</th>\n",
       "      <th>ins_premium</th>\n",
       "      <th>ins_losses</th>\n",
       "      <th>abbrev</th>\n",
       "    </tr>\n",
       "  </thead>\n",
       "  <tbody>\n",
       "    <tr>\n",
       "      <th>0</th>\n",
       "      <td>18.8</td>\n",
       "      <td>7.332</td>\n",
       "      <td>5.640</td>\n",
       "      <td>18.048</td>\n",
       "      <td>15.040</td>\n",
       "      <td>784.55</td>\n",
       "      <td>145.08</td>\n",
       "      <td>AL</td>\n",
       "    </tr>\n",
       "    <tr>\n",
       "      <th>1</th>\n",
       "      <td>18.1</td>\n",
       "      <td>7.421</td>\n",
       "      <td>4.525</td>\n",
       "      <td>16.290</td>\n",
       "      <td>17.014</td>\n",
       "      <td>1053.48</td>\n",
       "      <td>133.93</td>\n",
       "      <td>AK</td>\n",
       "    </tr>\n",
       "  </tbody>\n",
       "</table>\n",
       "</div>"
      ],
      "text/plain": [
       "   total  speeding  alcohol  not_distracted  no_previous  ins_premium  \\\n",
       "0   18.8     7.332    5.640          18.048       15.040       784.55   \n",
       "1   18.1     7.421    4.525          16.290       17.014      1053.48   \n",
       "\n",
       "   ins_losses abbrev  \n",
       "0      145.08     AL  \n",
       "1      133.93     AK  "
      ]
     },
     "execution_count": 3,
     "metadata": {},
     "output_type": "execute_result"
    }
   ],
   "source": [
    "cars=sns.load_dataset('car_crashes')\n",
    "cars.head(2)"
   ]
  },
  {
   "cell_type": "code",
   "execution_count": 4,
   "id": "04c8cb05-82ef-4168-87c5-c0eb7c2ea3a4",
   "metadata": {},
   "outputs": [
    {
     "data": {
      "text/html": [
       "<div>\n",
       "<style scoped>\n",
       "    .dataframe tbody tr th:only-of-type {\n",
       "        vertical-align: middle;\n",
       "    }\n",
       "\n",
       "    .dataframe tbody tr th {\n",
       "        vertical-align: top;\n",
       "    }\n",
       "\n",
       "    .dataframe thead th {\n",
       "        text-align: right;\n",
       "    }\n",
       "</style>\n",
       "<table border=\"1\" class=\"dataframe\">\n",
       "  <thead>\n",
       "    <tr style=\"text-align: right;\">\n",
       "      <th></th>\n",
       "      <th>survived</th>\n",
       "      <th>pclass</th>\n",
       "      <th>sex</th>\n",
       "      <th>age</th>\n",
       "      <th>sibsp</th>\n",
       "      <th>parch</th>\n",
       "      <th>fare</th>\n",
       "      <th>embarked</th>\n",
       "      <th>class</th>\n",
       "      <th>who</th>\n",
       "      <th>adult_male</th>\n",
       "      <th>deck</th>\n",
       "      <th>embark_town</th>\n",
       "      <th>alive</th>\n",
       "      <th>alone</th>\n",
       "    </tr>\n",
       "  </thead>\n",
       "  <tbody>\n",
       "    <tr>\n",
       "      <th>0</th>\n",
       "      <td>0</td>\n",
       "      <td>3</td>\n",
       "      <td>male</td>\n",
       "      <td>22.0</td>\n",
       "      <td>1</td>\n",
       "      <td>0</td>\n",
       "      <td>7.2500</td>\n",
       "      <td>S</td>\n",
       "      <td>Third</td>\n",
       "      <td>man</td>\n",
       "      <td>True</td>\n",
       "      <td>NaN</td>\n",
       "      <td>Southampton</td>\n",
       "      <td>no</td>\n",
       "      <td>False</td>\n",
       "    </tr>\n",
       "    <tr>\n",
       "      <th>1</th>\n",
       "      <td>1</td>\n",
       "      <td>1</td>\n",
       "      <td>female</td>\n",
       "      <td>38.0</td>\n",
       "      <td>1</td>\n",
       "      <td>0</td>\n",
       "      <td>71.2833</td>\n",
       "      <td>C</td>\n",
       "      <td>First</td>\n",
       "      <td>woman</td>\n",
       "      <td>False</td>\n",
       "      <td>C</td>\n",
       "      <td>Cherbourg</td>\n",
       "      <td>yes</td>\n",
       "      <td>False</td>\n",
       "    </tr>\n",
       "  </tbody>\n",
       "</table>\n",
       "</div>"
      ],
      "text/plain": [
       "   survived  pclass     sex   age  sibsp  parch     fare embarked  class  \\\n",
       "0         0       3    male  22.0      1      0   7.2500        S  Third   \n",
       "1         1       1  female  38.0      1      0  71.2833        C  First   \n",
       "\n",
       "     who  adult_male deck  embark_town alive  alone  \n",
       "0    man        True  NaN  Southampton    no  False  \n",
       "1  woman       False    C    Cherbourg   yes  False  "
      ]
     },
     "execution_count": 4,
     "metadata": {},
     "output_type": "execute_result"
    }
   ],
   "source": [
    "titanic = sns.load_dataset('titanic')\n",
    "titanic.head(2)"
   ]
  },
  {
   "cell_type": "code",
   "execution_count": 5,
   "id": "7402fdeb-7cef-439a-b1d0-ab152fbf48a1",
   "metadata": {},
   "outputs": [
    {
     "data": {
      "text/plain": [
       "LinregressResult(slope=0.573923468489476, intercept=2.0182022842016605, rvalue=0.6697185644227318, pvalue=7.695399312571867e-08, stderr=0.09091327986873614, intercept_stderr=0.48935873076287345)"
      ]
     },
     "execution_count": 5,
     "metadata": {},
     "output_type": "execute_result"
    }
   ],
   "source": [
    "# using \n",
    "speeding=cars.speeding\n",
    "alcohol=cars.alcohol\n",
    "stats.linregress(speeding, alcohol)"
   ]
  },
  {
   "cell_type": "code",
   "execution_count": 6,
   "id": "cfffcbfe-6db0-4576-a77c-fbccebb31577",
   "metadata": {},
   "outputs": [
    {
     "data": {
      "text/plain": [
       "<matplotlib.collections.PathCollection at 0x2367fc073d0>"
      ]
     },
     "execution_count": 6,
     "metadata": {},
     "output_type": "execute_result"
    },
    {
     "data": {
      "image/png": "[encoded data removed]",
      "text/plain": [
       "<Figure size 432x288 with 1 Axes>"
      ]
     },
     "metadata": {
      "needs_background": "light"
     },
     "output_type": "display_data"
    }
   ],
   "source": [
    "plt.scatter(speeding, alcohol)"
   ]
  },
  {
   "cell_type": "markdown",
   "id": "5700b1db-2160-425b-9996-32851d691191",
   "metadata": {},
   "source": [
    "We can draw a line of best fit"
   ]
  },
  {
   "cell_type": "markdown",
   "id": "5f38678a-c66a-4cfb-a6b2-14980d91ac52",
   "metadata": {},
   "source": [
    "### first we need the slope and intercept values "
   ]
  },
  {
   "cell_type": "code",
   "execution_count": 8,
   "id": "a270109c-25fe-46ab-bea9-2ec46f65e686",
   "metadata": {},
   "outputs": [],
   "source": [
    "slope,intercept,r,p,stderr=stats.linregress(speeding, alcohol)"
   ]
  },
  {
   "cell_type": "code",
   "execution_count": 9,
   "id": "ee116925-c4f1-43ed-abf8-bd8416bb1503",
   "metadata": {},
   "outputs": [],
   "source": [
    "# we have destructured / extracted the values above"
   ]
  },
  {
   "cell_type": "code",
   "execution_count": 10,
   "id": "267822a6-eea8-4279-8ce6-07e8e306e6d4",
   "metadata": {},
   "outputs": [
    {
     "data": {
      "text/plain": [
       "0.573923468489476"
      ]
     },
     "execution_count": 10,
     "metadata": {},
     "output_type": "execute_result"
    }
   ],
   "source": [
    "slope"
   ]
  },
  {
   "cell_type": "code",
   "execution_count": 11,
   "id": "d9eccd22-0870-4eaf-a854-2539edfe66d6",
   "metadata": {},
   "outputs": [],
   "source": [
    "# straight line\n",
    "# y = mx+c\n",
    "# y = slope * x + intercept"
   ]
  },
  {
   "cell_type": "code",
   "execution_count": 13,
   "id": "1537ebc1-d1df-421f-b06c-6b2d1ee29bfd",
   "metadata": {},
   "outputs": [
    {
     "data": {
      "image/png": "[encoded data removed]",
      "text/plain": [
       "<Figure size 432x288 with 1 Axes>"
      ]
     },
     "metadata": {
      "needs_background": "light"
     },
     "output_type": "display_data"
    }
   ],
   "source": [
    "def myNewY(x):\n",
    "    return slope*x + intercept\n",
    "\n",
    "# pass each value of x through the function\n",
    "# this will generate new values of y\n",
    "# (which will be used for the line)\n",
    "\n",
    "new_y = list(map(myNewY, speeding))\n",
    "# print(new_y)\n",
    "\n",
    "# draw scatterplot\n",
    "plt.scatter(speeding, alcohol)\n",
    "\n",
    "# labels\n",
    "plt.xlabel(\"Speeding\")\n",
    "plt.ylabel(\"Alcohol\")\n",
    "\n",
    "# line plot\n",
    "plt.plot(speeding, new_y)\n",
    "plt.show()"
   ]
  },
  {
   "cell_type": "code",
   "execution_count": 14,
   "id": "bc98c9dd-4d4c-4a07-b600-9c5aa7e689d8",
   "metadata": {},
   "outputs": [
    {
     "name": "stdout",
     "output_type": "stream",
     "text": [
      "0.6697185644227318\n"
     ]
    }
   ],
   "source": [
    "print(r)"
   ]
  },
  {
   "cell_type": "code",
   "execution_count": 15,
   "id": "2b2ee26e-5b8b-4993-b11c-b111746e1f58",
   "metadata": {},
   "outputs": [
    {
     "name": "stdout",
     "output_type": "stream",
     "text": [
      "6.7243747258153626\n"
     ]
    }
   ],
   "source": [
    "# use the function to predict a new value\n",
    "\n",
    "alcohol_lvl = myNewY(8.2)\n",
    "print(alcohol_lvl)"
   ]
  },
  {
   "cell_type": "markdown",
   "id": "89a684b6-6731-49f0-98ba-9dd078a7cf51",
   "metadata": {},
   "source": [
    "# PRACTICE"
   ]
  },
  {
   "cell_type": "markdown",
   "id": "e00654cf-78c9-48f5-aec7-fc5dba933596",
   "metadata": {},
   "source": [
    "# world population dataset\n",
    "1. load the file \n",
    "2. Top 10 countries by population\n",
    "3. create a bar chat"
   ]
  },
  {
   "cell_type": "code",
   "execution_count": 17,
   "id": "e83f0488-67df-465d-9aff-51ca81ff27ed",
   "metadata": {},
   "outputs": [],
   "source": [
    "pop = pd.read_excel(\"datasets/world_population.xlsx\")\n",
    "tp10 = pop.head(10)"
   ]
  },
  {
   "cell_type": "code",
   "execution_count": 18,
   "id": "4a256d9a-e36f-4c94-8476-d0c3247c3bc9",
   "metadata": {},
   "outputs": [
    {
     "data": {
      "text/plain": [
       "Index(['S/N', 'Country (or dependency)', 'Population (2020)', 'Yearly Change',\n",
       "       'Net Change', 'Density (P/Km²)', 'Land Area (Km²)', 'Migrants (net)',\n",
       "       'Fert. Rate', 'Med. Age', 'Urban Pop %', 'World Share'],\n",
       "      dtype='object')"
      ]
     },
     "execution_count": 18,
     "metadata": {},
     "output_type": "execute_result"
    }
   ],
   "source": [
    "tp10.columns"
   ]
  },
  {
   "cell_type": "code",
   "execution_count": 24,
   "id": "2ecce9b0-cb3d-44c0-9621-ae0349d150eb",
   "metadata": {},
   "outputs": [
    {
     "data": {
      "text/plain": [
       "<AxesSubplot:xlabel='Country (or dependency)', ylabel='Population (2020)'>"
      ]
     },
     "execution_count": 24,
     "metadata": {},
     "output_type": "execute_result"
    },
    {
     "data": {
      "image/png": "[encoded data removed]",
      "text/plain": [
       "<Figure size 864x360 with 1 Axes>"
      ]
     },
     "metadata": {},
     "output_type": "display_data"
    }
   ],
   "source": [
    "country=tp10['Country (or dependency)']\n",
    "population=tp10['Population (2020)']\n",
    "\n",
    "sns.set(rc={'figure.figsize':(12,5)})\n",
    "sns.set_style('darkgrid')\n",
    "sns.barplot(data=tp10,x=country,y=population)\n"
   ]
  },
  {
   "cell_type": "code",
   "execution_count": null,
   "id": "aa9d4f98-a672-445b-92ba-169ca1fd80ef",
   "metadata": {},
   "outputs": [],
   "source": []
  }
 ],
 "metadata": {
  "kernelspec": {
   "display_name": "Python 3 (ipykernel)",
   "language": "python",
   "name": "python3"
  },
  "language_info": {
   "codemirror_mode": {
    "name": "ipython",
    "version": 3
   },
   "file_extension": ".py",
   "mimetype": "text/x-python",
   "name": "python",
   "nbconvert_exporter": "python",
   "pygments_lexer": "ipython3",
   "version": "3.9.12"
  }
 },
 "nbformat": 4,
 "nbformat_minor": 5
}
