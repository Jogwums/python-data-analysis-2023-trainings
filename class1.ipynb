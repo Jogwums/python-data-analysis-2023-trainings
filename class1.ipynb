{
 "cells": [
  {
   "cell_type": "markdown",
   "id": "abf67c0e-0a48-4108-8937-bcfa56fb7302",
   "metadata": {},
   "source": [
    "# Python Basics"
   ]
  },
  {
   "cell_type": "code",
   "execution_count": 4,
   "id": "d175a9b5-e0e3-42a3-8e92-44499eaae1fa",
   "metadata": {},
   "outputs": [],
   "source": [
    "# Python basics -- this is a comment in python"
   ]
  },
  {
   "cell_type": "code",
   "execution_count": 5,
   "id": "31053725-d2cf-4018-acfe-2e48dc037b55",
   "metadata": {},
   "outputs": [],
   "source": [
    "# Python is an interpreted, interactive,\n",
    "# object-oriented programming language. \n",
    "# It supports procedural and functional \n",
    "# programiming as well. It incorporates modules,\n",
    "# exceptions, dynamic typing, \n",
    "# dynamic data types and classes"
   ]
  },
  {
   "cell_type": "code",
   "execution_count": 8,
   "id": "3fd668d1-0db5-45a7-82ad-f4deb474dafd",
   "metadata": {},
   "outputs": [],
   "source": [
    "# python variables \n",
    "x = 3\n",
    "xy12 = \"hello\"\n",
    "# 12by = \"welcome\" # wrong variable name  "
   ]
  },
  {
   "cell_type": "code",
   "execution_count": 9,
   "id": "a6899710-d3f8-44c5-8987-951bfef6cc3a",
   "metadata": {},
   "outputs": [
    {
     "data": {
      "text/plain": [
       "3"
      ]
     },
     "execution_count": 9,
     "metadata": {},
     "output_type": "execute_result"
    }
   ],
   "source": [
    "# variables are used to store values \n",
    "x"
   ]
  },
  {
   "cell_type": "code",
   "execution_count": 10,
   "id": "c63cbbdb-788d-446d-b6de-06e9bca46689",
   "metadata": {},
   "outputs": [
    {
     "name": "stdout",
     "output_type": "stream",
     "text": [
      "3\n"
     ]
    }
   ],
   "source": [
    "# output in python\n",
    "\n",
    "print(x)"
   ]
  },
  {
   "cell_type": "code",
   "execution_count": 11,
   "id": "262626c6-28d9-4676-ba22-c084ffcf51df",
   "metadata": {},
   "outputs": [
    {
     "data": {
      "text/plain": [
       "'\\n    string \\n    int\\n    float\\n    list\\n    sets\\n    boolean\\n    dict\\n'"
      ]
     },
     "execution_count": 11,
     "metadata": {},
     "output_type": "execute_result"
    }
   ],
   "source": [
    "# data types \n",
    "\"\"\"\n",
    "    string \n",
    "    int\n",
    "    float\n",
    "    list\n",
    "    sets\n",
    "    boolean\n",
    "    dict\n",
    "\"\"\""
   ]
  },
  {
   "cell_type": "code",
   "execution_count": 12,
   "id": "e4a1a262-e758-4ae2-8d55-83d34c40060e",
   "metadata": {},
   "outputs": [
    {
     "data": {
      "text/plain": [
       "11"
      ]
     },
     "execution_count": 12,
     "metadata": {},
     "output_type": "execute_result"
    }
   ],
   "source": [
    "6 + 5"
   ]
  },
  {
   "cell_type": "code",
   "execution_count": 13,
   "id": "3cc6df14-c09d-4c29-b388-992a1135189d",
   "metadata": {},
   "outputs": [],
   "source": [
    "# mathematical and logical operators \n",
    "# + - / *; > < >= <= etc."
   ]
  },
  {
   "cell_type": "code",
   "execution_count": 14,
   "id": "d700c3df-6053-42f4-992d-6e2b9ef25fa3",
   "metadata": {},
   "outputs": [],
   "source": [
    "# variables and variable assignment\n",
    "\n",
    "x = 5\n",
    "# x is the variable \n",
    "# = is the assignment operator\n",
    "# 5 is the value assigned to the variable\n",
    "\n",
    "# it is impossible to create a variable without\n",
    "# assigning a value to it. However, you can \n",
    "# create empty variables"
   ]
  },
  {
   "cell_type": "code",
   "execution_count": 15,
   "id": "f5123f2f-68d1-485a-8532-6357ad41c479",
   "metadata": {},
   "outputs": [
    {
     "name": "stdout",
     "output_type": "stream",
     "text": [
      "5\n"
     ]
    }
   ],
   "source": [
    "print(x)"
   ]
  },
  {
   "cell_type": "code",
   "execution_count": 16,
   "id": "0e01569a-2b21-4ad4-9b88-8eebbbd0d41b",
   "metadata": {},
   "outputs": [],
   "source": [
    "# numbers \n",
    "# int or float\n",
    "# 5 or 2.5\n",
    "\n",
    "# text\n",
    "# strings - use single quotes or double quotes\n",
    "# 'Hello' or \"Welcome\""
   ]
  },
  {
   "cell_type": "code",
   "execution_count": 17,
   "id": "7e880f25-bfa1-4805-b0a9-7760e49e2d21",
   "metadata": {},
   "outputs": [],
   "source": [
    "y = \"welcome\""
   ]
  },
  {
   "cell_type": "code",
   "execution_count": 18,
   "id": "94a3177b-a7a1-4d5e-a473-4ab33286b16b",
   "metadata": {},
   "outputs": [
    {
     "name": "stdout",
     "output_type": "stream",
     "text": [
      "welcome\n"
     ]
    }
   ],
   "source": [
    "print(y)"
   ]
  },
  {
   "cell_type": "code",
   "execution_count": 19,
   "id": "8575b3a7-e5b3-4002-91d3-95f0d03a0b77",
   "metadata": {},
   "outputs": [],
   "source": [
    "xy = \"Welcome to data analysis with python\""
   ]
  },
  {
   "cell_type": "code",
   "execution_count": 20,
   "id": "55baf748-b356-4a4a-b78a-9b7f6091e917",
   "metadata": {},
   "outputs": [
    {
     "name": "stdout",
     "output_type": "stream",
     "text": [
      "Welcome to data analysis with python\n"
     ]
    }
   ],
   "source": [
    "print(xy)"
   ]
  },
  {
   "cell_type": "code",
   "execution_count": 22,
   "id": "a1c89364-fd20-46ac-9078-cb5e903e0d6f",
   "metadata": {},
   "outputs": [
    {
     "name": "stdout",
     "output_type": "stream",
     "text": [
      "<class 'str'>\n"
     ]
    }
   ],
   "source": [
    "print(type(xy))"
   ]
  },
  {
   "cell_type": "code",
   "execution_count": 23,
   "id": "7d8a13da-c4b7-49b4-90e5-9db78495881e",
   "metadata": {},
   "outputs": [
    {
     "name": "stdout",
     "output_type": "stream",
     "text": [
      "<class 'float'>\n"
     ]
    }
   ],
   "source": [
    "print(type(2.5))"
   ]
  },
  {
   "cell_type": "code",
   "execution_count": 24,
   "id": "c688467d-23c6-47ac-8e75-8103a3ccbc5b",
   "metadata": {},
   "outputs": [],
   "source": [
    "# collection types \n",
    "# list and tuple"
   ]
  },
  {
   "cell_type": "code",
   "execution_count": 25,
   "id": "072c66b3-c781-4ada-8324-d9398d28281b",
   "metadata": {},
   "outputs": [],
   "source": [
    "# list \n",
    "# class list()\n",
    "# shortcut []\n",
    "\n",
    "# your list can hold other data types"
   ]
  },
  {
   "cell_type": "code",
   "execution_count": 26,
   "id": "d00ff61c-d778-4550-9de8-390a1d69174c",
   "metadata": {},
   "outputs": [],
   "source": [
    "names = ['james','john','joy','jane']"
   ]
  },
  {
   "cell_type": "code",
   "execution_count": 27,
   "id": "c21a6c8c-5ef0-40ed-9d03-759e938b8743",
   "metadata": {},
   "outputs": [
    {
     "name": "stdout",
     "output_type": "stream",
     "text": [
      "['james', 'john', 'joy', 'jane']\n"
     ]
    }
   ],
   "source": [
    "print(names)"
   ]
  },
  {
   "cell_type": "code",
   "execution_count": 28,
   "id": "a1c67bdd-935b-4c36-a4c4-218d1b4003f7",
   "metadata": {},
   "outputs": [
    {
     "name": "stdout",
     "output_type": "stream",
     "text": [
      "[]\n",
      "<class 'list'>\n"
     ]
    }
   ],
   "source": [
    "# empty list \n",
    "jobs = list()\n",
    "print(jobs)\n",
    "print(type(jobs))"
   ]
  },
  {
   "cell_type": "code",
   "execution_count": 29,
   "id": "f95d1046-74fa-4e41-8bde-2eccd2e94bb7",
   "metadata": {},
   "outputs": [
    {
     "name": "stdout",
     "output_type": "stream",
     "text": [
      "('apple', 'mango', 'banana')\n",
      "<class 'tuple'>\n"
     ]
    }
   ],
   "source": [
    "# tuple\n",
    "# it is an ordered and unchangeable collection type\n",
    "# class tuple()\n",
    "# shortcut ()\n",
    "fruits = ('apple','mango','banana')\n",
    "print(fruits)\n",
    "print(type(fruits))"
   ]
  },
  {
   "cell_type": "code",
   "execution_count": 30,
   "id": "3254aa7e-b915-4bd0-9ec7-9d051369af65",
   "metadata": {},
   "outputs": [],
   "source": [
    "# Booleans\n",
    "# usually divided into True or False"
   ]
  },
  {
   "cell_type": "code",
   "execution_count": 31,
   "id": "00a8eff9-a083-4c8c-9549-1546b075c87c",
   "metadata": {},
   "outputs": [
    {
     "data": {
      "text/plain": [
       "False"
      ]
     },
     "execution_count": 31,
     "metadata": {},
     "output_type": "execute_result"
    }
   ],
   "source": [
    "5>6"
   ]
  },
  {
   "cell_type": "code",
   "execution_count": 33,
   "id": "b17ddf57-9360-445b-ac99-75456b5c5d62",
   "metadata": {},
   "outputs": [],
   "source": [
    "# collection types\n",
    "# sets\n",
    "# class set()\n",
    "# shortcut {}"
   ]
  },
  {
   "cell_type": "code",
   "execution_count": 34,
   "id": "7b5aa537-ca5d-498d-8dc2-bb2397ea69d7",
   "metadata": {},
   "outputs": [
    {
     "name": "stdout",
     "output_type": "stream",
     "text": [
      "{'grape', 'apple', 'orange'}\n"
     ]
    }
   ],
   "source": [
    "fruitsSingle = {'apple','orange','grape',\n",
    "                'apple'}\n",
    "print(fruitsSingle)"
   ]
  },
  {
   "cell_type": "markdown",
   "id": "f4b312a4-35c9-4503-a1a9-02d82f07bc54",
   "metadata": {},
   "source": [
    "sets are unordered and duplicates are not allowed"
   ]
  },
  {
   "cell_type": "code",
   "execution_count": 36,
   "id": "6f497e62-1d2c-4d55-b881-4a452d84edfd",
   "metadata": {},
   "outputs": [],
   "source": [
    "# dictionary / dict\n",
    "# class dict()\n",
    "# shortcut {}\n",
    "# dicts have key:value pairs"
   ]
  },
  {
   "cell_type": "code",
   "execution_count": 37,
   "id": "9d2a6dfa-6800-4b40-921c-78e78186fb48",
   "metadata": {},
   "outputs": [],
   "source": [
    "# dicts are ordered, no duplicate keys,\n",
    "# changeable"
   ]
  },
  {
   "cell_type": "code",
   "execution_count": 38,
   "id": "48122e37-d432-493f-abdd-96a04570a20e",
   "metadata": {},
   "outputs": [
    {
     "name": "stdout",
     "output_type": "stream",
     "text": [
      "{'brand': 'toyota', 'model': 'corolla', 'year': 2022}\n",
      "<class 'dict'>\n"
     ]
    }
   ],
   "source": [
    "car = {\n",
    "  \"brand\":\"toyota\",\n",
    "    \"model\":\"corolla\",\n",
    "    \"year\":2022,\n",
    "}\n",
    "print(car)\n",
    "print(type(car))"
   ]
  },
  {
   "cell_type": "code",
   "execution_count": null,
   "id": "d578c7c9-5371-40c3-8b4e-9f4032fe36c4",
   "metadata": {},
   "outputs": [],
   "source": []
  }
 ],
 "metadata": {
  "kernelspec": {
   "display_name": "Python 3 (ipykernel)",
   "language": "python",
   "name": "python3"
  },
  "language_info": {
   "codemirror_mode": {
    "name": "ipython",
    "version": 3
   },
   "file_extension": ".py",
   "mimetype": "text/x-python",
   "name": "python",
   "nbconvert_exporter": "python",
   "pygments_lexer": "ipython3",
   "version": "3.9.12"
  }
 },
 "nbformat": 4,
 "nbformat_minor": 5
}
