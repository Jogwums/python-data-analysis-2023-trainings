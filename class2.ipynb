{
 "cells": [
  {
   "cell_type": "markdown",
   "id": "9363c808-feb6-4b24-ac68-278980d5db72",
   "metadata": {},
   "source": [
    "# Python Input and Output"
   ]
  },
  {
   "cell_type": "markdown",
   "id": "00dc33cf-ce6b-4a66-b6a1-f494e119d072",
   "metadata": {},
   "source": [
    "python receives input from the screen using the input statement"
   ]
  },
  {
   "cell_type": "markdown",
   "id": "8f703125-2f00-4a7d-94af-fa80bbaade58",
   "metadata": {},
   "source": [
    "the interpreter will pause and create a space for you to type a value"
   ]
  },
  {
   "cell_type": "code",
   "execution_count": 1,
   "id": "b897f577-d226-43f7-af56-b676277f2ef0",
   "metadata": {},
   "outputs": [
    {
     "name": "stdin",
     "output_type": "stream",
     "text": [
      " 76\n"
     ]
    },
    {
     "data": {
      "text/plain": [
       "'76'"
      ]
     },
     "execution_count": 1,
     "metadata": {},
     "output_type": "execute_result"
    }
   ],
   "source": [
    "input()"
   ]
  },
  {
   "cell_type": "markdown",
   "id": "193dd133-f9a6-48c1-89c7-f4c8e9a93e38",
   "metadata": {},
   "source": [
    "you can add a prompt to the input statement to help your user know what to type"
   ]
  },
  {
   "cell_type": "code",
   "execution_count": 3,
   "id": "97230c90-5d3f-47f1-aa6e-66fe4a3305e4",
   "metadata": {},
   "outputs": [
    {
     "name": "stdin",
     "output_type": "stream",
     "text": [
      "enter your name: bola\n"
     ]
    },
    {
     "data": {
      "text/plain": [
       "'bola'"
      ]
     },
     "execution_count": 3,
     "metadata": {},
     "output_type": "execute_result"
    }
   ],
   "source": [
    "input(\"enter your name:\")"
   ]
  },
  {
   "cell_type": "markdown",
   "id": "990c79a7-7e96-4aca-a6b0-2aa0950326ed",
   "metadata": {},
   "source": [
    "Example"
   ]
  },
  {
   "cell_type": "code",
   "execution_count": 4,
   "id": "4167ed53-1458-49c5-9030-ee164f1fc22e",
   "metadata": {},
   "outputs": [
    {
     "name": "stdin",
     "output_type": "stream",
     "text": [
      "How many plates do you want?: 3\n"
     ]
    },
    {
     "name": "stdout",
     "output_type": "stream",
     "text": [
      "333333333333333333333333333333333333333333333333333333333333333333333333333333333333333333333333333333333333333333333333333333333333333333333333333333333333333333333333333333333333333333333333333333333333333333333333333333333333333333333333333333333333333333333333333333333333333333333333333333333333333333333333333333333333333333333333333333333333333333333333333333333333333333333333333333333333333333333333333333333333333333333333333333333333333333333333333333333333333333333333333333333333333333333333333333333333333333333333333333333333333333333333333333333333333333333333333333333333333333333333333333333333333333333333333333333333333333333333333333333333333333333333333333333333333333333333333333333333333333333333333333333333333333333333333333333333333333333333333333333333333333333333333333333333333333333333333333333333333333333333333333333333333333333333333333333333333333333333333333333333333333333333333333333333333333333333333333333333333333333333333333333333333333333333333333333333333333333333333333333333333333333333333333333333333333333333333333333333333333333333333333333333333333333333333333333333333333333333333333333333333333333333333333333333333333333333333333333333333333333333333333333333333333333333333333333333333333333333333333333333333333333333333333333333333333333333333333333333333333333333333333333333333333333333333333333333333333333333333333333333333333333333333333333333333333333333333333333333333333333333333333333333333333333333333333333333333333333333333333333333\n"
     ]
    }
   ],
   "source": [
    "price = 1500\n",
    "qty = input(\"How many plates do you want?:\")\n",
    "cost = price * qty\n",
    "print(cost)"
   ]
  },
  {
   "cell_type": "markdown",
   "id": "7fab2bac-39f3-4968-acac-09d4c415dc6d",
   "metadata": {},
   "source": [
    " the error above is because the input() statment sees 3 as a text not an integer"
   ]
  },
  {
   "cell_type": "markdown",
   "id": "9c8332b1-6816-4cd3-aa82-10eb829ce7b9",
   "metadata": {},
   "source": [
    "Correction"
   ]
  },
  {
   "cell_type": "code",
   "execution_count": 6,
   "id": "5b1d06e4-05df-4c26-91a9-f3963474b0f0",
   "metadata": {},
   "outputs": [
    {
     "name": "stdin",
     "output_type": "stream",
     "text": [
      "How many plates do you want? 3\n"
     ]
    },
    {
     "name": "stdout",
     "output_type": "stream",
     "text": [
      "4500\n"
     ]
    }
   ],
   "source": [
    "# we will apply type conversion\n",
    "\n",
    "price = 1500\n",
    "qty = input(\"How many plates do you want?\")\n",
    "cost = price * int(qty)\n",
    "print(cost)"
   ]
  },
  {
   "cell_type": "markdown",
   "id": "1dcf39ec-bcbe-49ec-b7b7-a0a7edd11547",
   "metadata": {},
   "source": [
    "# String Methods "
   ]
  },
  {
   "cell_type": "code",
   "execution_count": 7,
   "id": "f08c0a81-b702-4ed1-b455-b2701a820497",
   "metadata": {},
   "outputs": [],
   "source": [
    "x  = \"Hello\"\n",
    "y = \"World\""
   ]
  },
  {
   "cell_type": "code",
   "execution_count": 8,
   "id": "94378608-8fb4-4c83-b0fa-531c3e93d8d2",
   "metadata": {},
   "outputs": [],
   "source": [
    "# display first character in the string\n",
    "# using the index number and square brackets"
   ]
  },
  {
   "cell_type": "code",
   "execution_count": 11,
   "id": "365c0fe6-0ad2-4236-989a-9b6e7a17f180",
   "metadata": {},
   "outputs": [
    {
     "name": "stdout",
     "output_type": "stream",
     "text": [
      "Hello\n",
      "5\n",
      "First character:  H\n"
     ]
    }
   ],
   "source": [
    "print(x)\n",
    "print(len(x))\n",
    "print(\"First character: \",x[0])"
   ]
  },
  {
   "cell_type": "code",
   "execution_count": 12,
   "id": "d2aa6fe0-02e0-4ca1-82aa-f7f520771a54",
   "metadata": {},
   "outputs": [
    {
     "name": "stdout",
     "output_type": "stream",
     "text": [
      "World\n",
      "d\n"
     ]
    }
   ],
   "source": [
    "# last character can be accessed using \n",
    "# -ve indexing\n",
    "print(y)\n",
    "print(y[-1])"
   ]
  },
  {
   "cell_type": "code",
   "execution_count": 13,
   "id": "85ea3f0d-4522-4c6d-a15f-c65aaa73f737",
   "metadata": {},
   "outputs": [
    {
     "data": {
      "text/plain": [
       "'\\n    we can have info\\n    stored in multiple lines\\n    python will add line breaks \\n'"
      ]
     },
     "execution_count": 13,
     "metadata": {},
     "output_type": "execute_result"
    }
   ],
   "source": [
    "# multi-line string\n",
    "\"\"\"\n",
    "    we can have info\n",
    "    stored in multiple lines\n",
    "    python will add line breaks \n",
    "\"\"\""
   ]
  },
  {
   "cell_type": "code",
   "execution_count": 14,
   "id": "e0a177b2-4005-45b8-ae28-c7217e5e18dc",
   "metadata": {},
   "outputs": [
    {
     "name": "stdout",
     "output_type": "stream",
     "text": [
      "\n",
      "    we can have info\n",
      "    stored in multiple lines\n",
      "    python will add line breaks \n",
      "\n"
     ]
    }
   ],
   "source": [
    "m = \"\"\"\n",
    "    we can have info\n",
    "    stored in multiple lines\n",
    "    python will add line breaks \n",
    "\"\"\"\n",
    "print(m)"
   ]
  },
  {
   "cell_type": "code",
   "execution_count": 15,
   "id": "0b6f1275-d98a-4972-9cd6-87417b8ee7e3",
   "metadata": {},
   "outputs": [
    {
     "name": "stdout",
     "output_type": "stream",
     "text": [
      "42\n"
     ]
    }
   ],
   "source": [
    "# \n",
    "\"\"\"\n",
    "    we can have info\n",
    "    stored in multiple lines\n",
    "    python will add line breaks \n",
    "\"\"\"\n",
    "print(6*7)"
   ]
  },
  {
   "cell_type": "code",
   "execution_count": 20,
   "id": "70983c15-c884-49f9-8589-3c01668876b0",
   "metadata": {},
   "outputs": [
    {
     "name": "stdout",
     "output_type": "stream",
     "text": [
      "84\n",
      "\n",
      "    we can have info\n",
      "    stored in multiple lines\n",
      "    python will add line breaks \n",
      "n have info\n",
      "    stored in multiple lines\n"
     ]
    }
   ],
   "source": [
    "# string slicing\n",
    "print(len(m))\n",
    "print(m[0:83])\n",
    "print(m[10:50])"
   ]
  },
  {
   "cell_type": "markdown",
   "id": "893bf267-b6a9-4c15-989a-0feec5338d96",
   "metadata": {},
   "source": [
    "Larger pieces of text are often saved in files"
   ]
  },
  {
   "cell_type": "markdown",
   "id": "2e14574c-2758-4f1e-b66f-d4858f0900ef",
   "metadata": {},
   "source": [
    "Python has methods for opening and reading files"
   ]
  },
  {
   "cell_type": "code",
   "execution_count": 21,
   "id": "b7cecfb0-d058-4ab8-82bc-c771264c1eb2",
   "metadata": {},
   "outputs": [],
   "source": [
    "# open(file_path,mode)"
   ]
  },
  {
   "cell_type": "code",
   "execution_count": 22,
   "id": "7b32c505-3caa-4980-8ce4-31fa0263dc7a",
   "metadata": {},
   "outputs": [
    {
     "data": {
      "text/plain": [
       "<_io.TextIOWrapper name='datasets/romeo_full.txt' mode='r' encoding='cp1252'>"
      ]
     },
     "execution_count": 22,
     "metadata": {},
     "output_type": "execute_result"
    }
   ],
   "source": [
    "open('datasets/romeo_full.txt','r')"
   ]
  },
  {
   "cell_type": "code",
   "execution_count": 23,
   "id": "7bdb03b1-3e1a-4f5e-898e-a2bd28123efc",
   "metadata": {},
   "outputs": [
    {
     "name": "stdout",
     "output_type": "stream",
     "text": [
      "Romeo and Juliet\n",
      "Act 2, Scene 2 \n",
      "\n",
      "SCENE II. Capulet's orchard.\n",
      "\n",
      "Enter ROMEO\n",
      "\n",
      "ROMEO\n",
      "\n",
      "He jests at scars that never felt a wound.\n",
      "JULIET appears above at a window\n",
      "\n",
      "But, soft! what light through yonder window breaks?\n",
      "It is the east, and Juliet is the sun.\n",
      "Arise, fair sun, and kill the envious moon,\n",
      "Who is already sick and pale with grief,\n",
      "That thou her maid art far more fair than she:\n",
      "Be not her maid, since she is envious;\n",
      "Her vestal livery is but sick and green\n",
      "And none but fools do wear it; cast it off.\n",
      "It is my lady, O, it is my love!\n",
      "O, that she knew she were!\n",
      "She speaks yet she says nothing: what of that?\n",
      "Her eye discourses; I will answer it.\n",
      "I am too bold, 'tis not to me she speaks:\n",
      "Two of the fairest stars in all the heaven,\n",
      "Having some business, do entreat her eyes\n",
      "To twinkle in their spheres till they return.\n",
      "What if her eyes were there, they in her head?\n",
      "The brightness of her cheek would shame those stars,\n",
      "As daylight doth a lamp; her eyes in heaven\n",
      "Would through the airy region stream so bright\n",
      "That birds would sing and think it were not night.\n",
      "See, how she leans her cheek upon her hand!\n",
      "O, that I were a glove upon that hand,\n",
      "That I might touch that cheek!\n",
      "\n",
      "JULIET\n",
      "\n",
      "Ay me!\n",
      "\n",
      "ROMEO\n",
      "\n",
      "She speaks:\n",
      "O, speak again, bright angel! for thou art\n",
      "As glorious to this night, being o'er my head\n",
      "As is a winged messenger of heaven\n",
      "Unto the white-upturned wondering eyes\n",
      "Of mortals that fall back to gaze on him\n",
      "When he bestrides the lazy-pacing clouds\n",
      "And sails upon the bosom of the air.\n",
      "\n",
      "JULIET\n",
      "\n",
      "O Romeo, Romeo! wherefore art thou Romeo?\n",
      "Deny thy father and refuse thy name;\n",
      "Or, if thou wilt not, be but sworn my love,\n",
      "And I'll no longer be a Capulet.\n",
      "\n",
      "ROMEO\n",
      "\n",
      "[Aside] Shall I hear more, or shall I speak at this?\n",
      "\n",
      "JULIET\n",
      "\n",
      "'Tis but thy name that is my enemy;\n",
      "Thou art thyself, though not a Montague.\n",
      "What's Montague? it is nor hand, nor foot,\n",
      "Nor arm, nor face, nor any other part\n",
      "Belonging to a man. O, be some other name!\n",
      "What's in a name? that which we call a rose\n",
      "By any other name would smell as sweet;\n",
      "So Romeo would, were he not Romeo call'd,\n",
      "Retain that dear perfection which he owes\n",
      "Without that title. Romeo, doff thy name,\n",
      "And for that name which is no part of thee\n",
      "Take all myself.\n",
      "\n",
      "ROMEO\n",
      "\n",
      "I take thee at thy word:\n",
      "Call me but love, and I'll be new baptized;\n",
      "Henceforth I never will be Romeo.\n",
      "\n",
      "JULIET\n",
      "\n",
      "What man art thou that thus bescreen'd in night\n",
      "So stumblest on my counsel?\n",
      "\n",
      "ROMEO\n",
      "\n",
      "By a name\n",
      "I know not how to tell thee who I am:\n",
      "My name, dear saint, is hateful to myself,\n",
      "Because it is an enemy to thee;\n",
      "Had I it written, I would tear the word.\n",
      "\n",
      "JULIET\n",
      "\n",
      "My ears have not yet drunk a hundred words\n",
      "Of that tongue's utterance, yet I know the sound:\n",
      "Art thou not Romeo and a Montague?\n",
      "\n",
      "ROMEO\n",
      "\n",
      "Neither, fair saint, if either thee dislike.\n",
      "\n",
      "JULIET\n",
      "\n",
      "How camest thou hither, tell me, and wherefore?\n",
      "The orchard walls are high and hard to climb,\n",
      "And the place death, considering who thou art,\n",
      "If any of my kinsmen find thee here.\n",
      "\n",
      "ROMEO\n",
      "\n",
      "With love's light wings did I o'er-perch these walls;\n",
      "For stony limits cannot hold love out,\n",
      "And what love can do that dares love attempt;\n",
      "Therefore thy kinsmen are no let to me.\n",
      "\n",
      "JULIET\n",
      "\n",
      "If they do see thee, they will murder thee.\n",
      "\n",
      "ROMEO\n",
      "\n",
      "Alack, there lies more peril in thine eye\n",
      "Than twenty of their swords: look thou but sweet,\n",
      "And I am proof against their enmity.\n",
      "\n",
      "JULIET\n",
      "\n",
      "I would not for the world they saw thee here.\n",
      "\n",
      "ROMEO\n",
      "\n",
      "I have night's cloak to hide me from their sight;\n",
      "And but thou love me, let them find me here:\n",
      "My life were better ended by their hate,\n",
      "Than death prorogued, wanting of thy love.\n",
      "\n",
      "JULIET\n",
      "\n",
      "By whose direction found'st thou out this place?\n",
      "\n",
      "ROMEO\n",
      "\n",
      "By love, who first did prompt me to inquire;\n",
      "He lent me counsel and I lent him eyes.\n",
      "I am no pilot; yet, wert thou as far\n",
      "As that vast shore wash'd with the farthest sea,\n",
      "I would adventure for such merchandise.\n",
      "\n",
      "JULIET\n",
      "\n",
      "Thou know'st the mask of night is on my face,\n",
      "Else would a maiden blush bepaint my cheek\n",
      "For that which thou hast heard me speak to-night\n",
      "Fain would I dwell on form, fain, fain deny\n",
      "What I have spoke: but farewell compliment!\n",
      "Dost thou love me? I know thou wilt say 'Ay,'\n",
      "And I will take thy word: yet if thou swear'st,\n",
      "Thou mayst prove false; at lovers' perjuries\n",
      "Then say, Jove laughs. O gentle Romeo,\n",
      "If thou dost love, pronounce it faithfully:\n",
      "Or if thou think'st I am too quickly won,\n",
      "I'll frown and be perverse an say thee nay,\n",
      "So thou wilt woo; but else, not for the world.\n",
      "In truth, fair Montague, I am too fond,\n",
      "And therefore thou mayst think my 'havior light:\n",
      "But trust me, gentleman, I'll prove more true\n",
      "Than those that have more cunning to be strange.\n",
      "I should have been more strange, I must confess,\n",
      "But that thou overheard'st, ere I was ware,\n",
      "My true love's passion: therefore pardon me,\n",
      "And not impute this yielding to light love,\n",
      "Which the dark night hath so discovered.\n",
      "\n",
      "ROMEO\n",
      "\n",
      "Lady, by yonder blessed moon I swear\n",
      "That tips with silver all these fruit-tree tops--\n",
      "\n",
      "JULIET\n",
      "\n",
      "O, swear not by the moon, the inconstant moon,\n",
      "That monthly changes in her circled orb,\n",
      "Lest that thy love prove likewise variable.\n",
      "\n",
      "ROMEO\n",
      "\n",
      "What shall I swear by?\n",
      "\n",
      "JULIET\n",
      "\n",
      "Do not swear at all;\n",
      "Or, if thou wilt, swear by thy gracious self,\n",
      "Which is the god of my idolatry,\n",
      "And I'll believe thee.\n",
      "\n",
      "ROMEO\n",
      "\n",
      "If my heart's dear love--\n",
      "\n",
      "JULIET\n",
      "\n",
      "Well, do not swear: although I joy in thee,\n",
      "I have no joy of this contract to-night:\n",
      "It is too rash, too unadvised, too sudden;\n",
      "Too like the lightning, which doth cease to be\n",
      "Ere one can say 'It lightens.' Sweet, good night!\n",
      "This bud of love, by summer's ripening breath,\n",
      "May prove a beauteous flower when next we meet.\n",
      "Good night, good night! as sweet repose and rest\n",
      "Come to thy heart as that within my breast!\n",
      "\n",
      "ROMEO\n",
      "\n",
      "O, wilt thou leave me so unsatisfied?\n",
      "\n",
      "JULIET\n",
      "\n",
      "What satisfaction canst thou have to-night?\n",
      "\n",
      "ROMEO\n",
      "\n",
      "The exchange of thy love's faithful vow for mine.\n",
      "\n",
      "JULIET\n",
      "\n",
      "I gave thee mine before thou didst request it:\n",
      "And yet I would it were to give again.\n",
      "\n",
      "ROMEO\n",
      "\n",
      "Wouldst thou withdraw it? for what purpose, love?\n",
      "\n",
      "JULIET\n",
      "\n",
      "But to be frank, and give it thee again.\n",
      "And yet I wish but for the thing I have:\n",
      "My bounty is as boundless as the sea,\n",
      "My love as deep; the more I give to thee,\n",
      "The more I have, for both are infinite.\n",
      "\n",
      "Nurse calls within\n",
      "\n",
      "I hear some noise within; dear love, adieu!\n",
      "Anon, good nurse! Sweet Montague, be true.\n",
      "Stay but a little, I will come again.\n",
      "Exit, above\n",
      "\n",
      "ROMEO\n",
      "\n",
      "O blessed, blessed night! I am afeard.\n",
      "Being in night, all this is but a dream,\n",
      "Too flattering-sweet to be substantial.\n",
      "\n",
      "Re-enter JULIET, above\n",
      "\n",
      "JULIET\n",
      "\n",
      "Three words, dear Romeo, and good night indeed.\n",
      "If that thy bent of love be honourable,\n",
      "Thy purpose marriage, send me word to-morrow,\n",
      "By one that I'll procure to come to thee,\n",
      "Where and what time thou wilt perform the rite;\n",
      "And all my fortunes at thy foot I'll lay\n",
      "And follow thee my lord throughout the world.\n",
      "\n",
      "Nurse\n",
      "\n",
      "[Within] Madam!\n",
      "\n",
      "JULIET\n",
      "\n",
      "I come, anon.--But if thou mean'st not well,\n",
      "I do beseech thee--\n",
      "\n",
      "Nurse\n",
      "[Within] Madam!\n",
      "\n",
      "JULIET\n",
      "\n",
      "By and by, I come:--\n",
      "To cease thy suit, and leave me to my grief:\n",
      "To-morrow will I send.\n",
      "\n",
      "ROMEO\n",
      "\n",
      "So thrive my soul--\n",
      "\n",
      "JULIET\n",
      "\n",
      "A thousand times good night!\n",
      "Exit, above\n",
      "\n",
      "ROMEO\n",
      "\n",
      "A thousand times the worse, to want thy light.\n",
      "Love goes toward love, as schoolboys from\n",
      "their books,\n",
      "But love from love, toward school with heavy looks.\n",
      "Retiring\n",
      "\n",
      "Re-enter JULIET, above\n",
      "\n",
      "JULIET\n",
      "\n",
      "Hist! Romeo, hist! O, for a falconer's voice,\n",
      "To lure this tassel-gentle back again!\n",
      "Bondage is hoarse, and may not speak aloud;\n",
      "Else would I tear the cave where Echo lies,\n",
      "And make her airy tongue more hoarse than mine,\n",
      "With repetition of my Romeo's name.\n",
      "\n",
      "ROMEO\n",
      "\n",
      "It is my soul that calls upon my name:\n",
      "How silver-sweet sound lovers' tongues by night,\n",
      "Like softest music to attending ears!\n",
      "\n",
      "JULIET\n",
      "\n",
      "Romeo!\n",
      "\n",
      "ROMEO\n",
      "\n",
      "My dear?\n",
      "\n",
      "JULIET\n",
      "\n",
      "At what o'clock to-morrow\n",
      "Shall I send to thee?\n",
      "\n",
      "ROMEO\n",
      "\n",
      "At the hour of nine.\n",
      "\n",
      "JULIET\n",
      "\n",
      "I will not fail: 'tis twenty years till then.\n",
      "I have forgot why I did call thee back.\n",
      "\n",
      "ROMEO\n",
      "\n",
      "Let me stand here till thou remember it.\n",
      "\n",
      "JULIET\n",
      "\n",
      "I shall forget, to have thee still stand there,\n",
      "Remembering how I love thy company.\n",
      "\n",
      "ROMEO\n",
      "\n",
      "And I'll still stay, to have thee still forget,\n",
      "Forgetting any other home but this.\n",
      "\n",
      "JULIET\n",
      "\n",
      "'Tis almost morning; I would have thee gone:\n",
      "And yet no further than a wanton's bird;\n",
      "Who lets it hop a little from her hand,\n",
      "Like a poor prisoner in his twisted gyves,\n",
      "And with a silk thread plucks it back again,\n",
      "So loving-jealous of his liberty.\n",
      "\n",
      "ROMEO\n",
      "\n",
      "I would I were thy bird.\n",
      "\n",
      "JULIET\n",
      "\n",
      "Sweet, so would I:\n",
      "Yet I should kill thee with much cherishing.\n",
      "Good night, good night! parting is such\n",
      "sweet sorrow,\n",
      "That I shall say good night till it be morrow.\n",
      "\n",
      "Exit above\n",
      "\n",
      "ROMEO\n",
      "\n",
      "Sleep dwell upon thine eyes, peace in thy breast!\n",
      "Would I were sleep and peace, so sweet to rest!\n",
      "Hence will I to my ghostly father's cell,\n",
      "His help to crave, and my dear hap to tell.\n",
      "\n",
      "Exit\n"
     ]
    }
   ],
   "source": [
    "romeo = open('datasets/romeo_full.txt','r')\n",
    "print(romeo.read())"
   ]
  },
  {
   "cell_type": "code",
   "execution_count": 24,
   "id": "3af2e1fd-39c1-49f1-92ca-9a247caddb24",
   "metadata": {},
   "outputs": [],
   "source": [
    "# open the zoo file"
   ]
  },
  {
   "cell_type": "code",
   "execution_count": 25,
   "id": "62165348-9657-4dc2-8318-2a7570fa3707",
   "metadata": {},
   "outputs": [
    {
     "name": "stdout",
     "output_type": "stream",
     "text": [
      "animal,uniq_id,water_need\n",
      "elephant,1001,500\n",
      "elephant,1002,600\n",
      "elephant,1003,550\n",
      "tiger,1004,300\n",
      "tiger,1005,320\n",
      "tiger,1006,330\n",
      "tiger,1007,290\n",
      "tiger,1008,310\n",
      "zebra,1009,200\n",
      "zebra,1010,220\n",
      "zebra,1011,240\n",
      "zebra,1012,230\n",
      "zebra,1013,220\n",
      "zebra,1014,100\n",
      "zebra,1015,80\n",
      "lion,1016,420\n",
      "lion,1017,600\n",
      "lion,1018,500\n",
      "lion,1019,390\n",
      "kangaroo,1020,410\n",
      "kangaroo,1021,430\n",
      "kangaroo,1022,410\n",
      "\n"
     ]
    }
   ],
   "source": [
    "zoo = open('datasets/zoo.csv','r')\n",
    "print(zoo.read())"
   ]
  },
  {
   "cell_type": "markdown",
   "id": "e4453e24-b961-4a9d-ae4f-75cfdea20478",
   "metadata": {},
   "source": [
    "## File opening modes"
   ]
  },
  {
   "cell_type": "markdown",
   "id": "378e305b-881e-408f-8fc2-412386b1f7a9",
   "metadata": {},
   "source": [
    "r - read\n",
    "\n",
    "a - append (add content without overwriting)\n",
    "\n",
    "w - write (overwrites previous content, create the file if it doesn't exist)"
   ]
  },
  {
   "cell_type": "markdown",
   "id": "166835ab-8c28-44e1-a3ca-8b68eda9497d",
   "metadata": {},
   "source": [
    "*additional params*\n",
    "\n",
    "t - text\n",
    "\n",
    "b - binary(e.g images)"
   ]
  },
  {
   "cell_type": "markdown",
   "id": "2588f2c0-ea36-4b98-b037-ac89f7b26089",
   "metadata": {},
   "source": [
    "# Create a new file"
   ]
  },
  {
   "cell_type": "code",
   "execution_count": 27,
   "id": "f5f95d10-04dc-4676-bb59-4013af1d7251",
   "metadata": {},
   "outputs": [],
   "source": [
    "file = open(\"datasets/text01.txt\",\"w\")\n",
    "file.write(\"Welcome to python for data analysis, it is quite easy to learn\")\n",
    "file.close()"
   ]
  },
  {
   "cell_type": "code",
   "execution_count": 28,
   "id": "e211b552-1d2d-4fe9-bb52-c3f129d7a017",
   "metadata": {},
   "outputs": [],
   "source": [
    "file = open(\"datasets/text01.txt\",\"a\")\n",
    "file.write(\" We are adding more content \")\n",
    "file.close()"
   ]
  },
  {
   "cell_type": "markdown",
   "id": "52a06273-e9b6-427b-894e-957f204f25cf",
   "metadata": {},
   "source": [
    "# Assignment "
   ]
  },
  {
   "cell_type": "markdown",
   "id": "60fcedf4-927c-4239-bef4-80191ccde870",
   "metadata": {},
   "source": [
    "Q1. How many characters are in the romeo file?\n",
    "\n",
    "Q2. How many characters are in the text01 file?"
   ]
  },
  {
   "cell_type": "markdown",
   "id": "0e78b75e-7b87-492d-a412-c5bd0cfce14a",
   "metadata": {},
   "source": [
    "Q3. Can you find how many words are in both files?\n",
    "A word is made up of several characters."
   ]
  },
  {
   "cell_type": "code",
   "execution_count": null,
   "id": "782ca99b-502b-4ce6-a83f-7925a94bea68",
   "metadata": {},
   "outputs": [],
   "source": []
  }
 ],
 "metadata": {
  "kernelspec": {
   "display_name": "Python 3 (ipykernel)",
   "language": "python",
   "name": "python3"
  },
  "language_info": {
   "codemirror_mode": {
    "name": "ipython",
    "version": 3
   },
   "file_extension": ".py",
   "mimetype": "text/x-python",
   "name": "python",
   "nbconvert_exporter": "python",
   "pygments_lexer": "ipython3",
   "version": "3.9.12"
  }
 },
 "nbformat": 4,
 "nbformat_minor": 5
}
